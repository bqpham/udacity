{
 "cells": [
  {
   "cell_type": "markdown",
   "metadata": {
    "collapsed": true
   },
   "source": [
    "# Language Translation\n",
    "In this project, you’re going to take a peek into the realm of neural network machine translation.  You’ll be training a sequence to sequence model on a dataset of English and French sentences that can translate new sentences from English to French.\n",
    "## Get the Data\n",
    "Since translating the whole language of English to French will take lots of time to train, we have provided you with a small portion of the English corpus."
   ]
  },
  {
   "cell_type": "code",
   "execution_count": 1,
   "metadata": {
    "collapsed": true
   },
   "outputs": [],
   "source": [
    "\"\"\"\n",
    "DON'T MODIFY ANYTHING IN THIS CELL\n",
    "\"\"\"\n",
    "import helper\n",
    "import problem_unittests as tests\n",
    "\n",
    "source_path = 'data/small_vocab_en'\n",
    "target_path = 'data/small_vocab_fr'\n",
    "source_text = helper.load_data(source_path)\n",
    "target_text = helper.load_data(target_path)"
   ]
  },
  {
   "cell_type": "markdown",
   "metadata": {},
   "source": [
    "## Explore the Data\n",
    "Play around with view_sentence_range to view different parts of the data."
   ]
  },
  {
   "cell_type": "code",
   "execution_count": 2,
   "metadata": {},
   "outputs": [
    {
     "name": "stdout",
     "output_type": "stream",
     "text": [
      "Dataset Stats\n",
      "Roughly the number of unique words: 227\n",
      "Number of sentences: 137861\n",
      "Average number of words in a sentence: 13.225277634719028\n",
      "\n",
      "English sentences 0 to 10:\n",
      "new jersey is sometimes quiet during autumn , and it is snowy in april .\n",
      "the united states is usually chilly during july , and it is usually freezing in november .\n",
      "california is usually quiet during march , and it is usually hot in june .\n",
      "the united states is sometimes mild during june , and it is cold in september .\n",
      "your least liked fruit is the grape , but my least liked is the apple .\n",
      "his favorite fruit is the orange , but my favorite is the grape .\n",
      "paris is relaxing during december , but it is usually chilly in july .\n",
      "new jersey is busy during spring , and it is never hot in march .\n",
      "our least liked fruit is the lemon , but my least liked is the grape .\n",
      "the united states is sometimes busy during january , and it is sometimes warm in november .\n",
      "\n",
      "French sentences 0 to 10:\n",
      "new jersey est parfois calme pendant l' automne , et il est neigeux en avril .\n",
      "les états-unis est généralement froid en juillet , et il gèle habituellement en novembre .\n",
      "california est généralement calme en mars , et il est généralement chaud en juin .\n",
      "les états-unis est parfois légère en juin , et il fait froid en septembre .\n",
      "votre moins aimé fruit est le raisin , mais mon moins aimé est la pomme .\n",
      "son fruit préféré est l'orange , mais mon préféré est le raisin .\n",
      "paris est relaxant en décembre , mais il est généralement froid en juillet .\n",
      "new jersey est occupé au printemps , et il est jamais chaude en mars .\n",
      "notre fruit est moins aimé le citron , mais mon moins aimé est le raisin .\n",
      "les états-unis est parfois occupé en janvier , et il est parfois chaud en novembre .\n"
     ]
    }
   ],
   "source": [
    "view_sentence_range = (0, 10)\n",
    "\n",
    "\"\"\"\n",
    "DON'T MODIFY ANYTHING IN THIS CELL\n",
    "\"\"\"\n",
    "import numpy as np\n",
    "\n",
    "print('Dataset Stats')\n",
    "print('Roughly the number of unique words: {}'.format(len({word: None for word in source_text.split()})))\n",
    "\n",
    "sentences = source_text.split('\\n')\n",
    "word_counts = [len(sentence.split()) for sentence in sentences]\n",
    "print('Number of sentences: {}'.format(len(sentences)))\n",
    "print('Average number of words in a sentence: {}'.format(np.average(word_counts)))\n",
    "\n",
    "print()\n",
    "print('English sentences {} to {}:'.format(*view_sentence_range))\n",
    "print('\\n'.join(source_text.split('\\n')[view_sentence_range[0]:view_sentence_range[1]]))\n",
    "print()\n",
    "print('French sentences {} to {}:'.format(*view_sentence_range))\n",
    "print('\\n'.join(target_text.split('\\n')[view_sentence_range[0]:view_sentence_range[1]]))"
   ]
  },
  {
   "cell_type": "markdown",
   "metadata": {},
   "source": [
    "## Implement Preprocessing Function\n",
    "### Text to Word Ids\n",
    "As you did with other RNNs, you must turn the text into a number so the computer can understand it. In the function `text_to_ids()`, you'll turn `source_text` and `target_text` from words to ids.  However, you need to add the `<EOS>` word id at the end of `target_text`.  This will help the neural network predict when the sentence should end.\n",
    "\n",
    "You can get the `<EOS>` word id by doing:\n",
    "```python\n",
    "target_vocab_to_int['<EOS>']\n",
    "```\n",
    "You can get other word ids using `source_vocab_to_int` and `target_vocab_to_int`."
   ]
  },
  {
   "cell_type": "code",
   "execution_count": 3,
   "metadata": {
    "collapsed": true
   },
   "outputs": [],
   "source": [
    "from collections import Counter\n",
    "\n",
    "def token_lookup():\n",
    "    \"\"\"\n",
    "    Generate a dict to turn punctuation into a token.\n",
    "    :return: Tokenize dictionary where the key is the punctuation and the value is the token\n",
    "    \"\"\"\n",
    "    punctuations = ['.', ',', '\"', ';', '!', '?', '(', ')', '--', '\\n']\n",
    "    tokens = ['<PERIOD>', '<COMMA>', '<DQUOTE>', '<SEMICOLON>', '<BANG>', '<QUESTION>', '<PAREN1>', '<PAREN2>', '<DDASH>', '<EOS>']\n",
    "    return {x: y for (x,y) in zip(punctuations, tokens)}\n",
    "\n",
    "def create_lookup_tables(text):\n",
    "    word_counts = Counter(text)\n",
    "    sorted_vocab = sorted(word_counts, key=word_counts.get, reverse=True)\n",
    "    int_to_vocab = {idx: word for idx, word in enumerate(sorted_vocab)}\n",
    "    vocab_to_int = {word: idx for idx, word in enumerate(sorted_vocab)}\n",
    "    vocab_size = len(vocab_to_int)    \n",
    "\n",
    "    return vocab_to_int, int_to_vocab\n",
    "\n",
    "token_source_text = source_text\n",
    "token_target_text = target_text\n",
    "\n",
    "# Convert punctuations\n",
    "token_dict = token_lookup()\n",
    "for key, token in token_dict.items():\n",
    "    token_source_text = token_source_text.replace(key, ' {} '.format(token))\n",
    "    token_target_text = token_target_text.replace(key, ' {} '.format(token))\n",
    "\n",
    "\n",
    "# Split text along white space before creating integer look up tables\n",
    "token_source_text = token_source_text.lower()\n",
    "token_source_text = token_source_text.split()\n",
    "\n",
    "token_target_text = token_target_text.lower()\n",
    "token_target_text = token_target_text.split()\n",
    "\n",
    "source_vocab_to_int, source_int_to_vocab = create_lookup_tables(token_source_text)\n",
    "\n",
    "target_vocab_to_int, target_int_to_vocab = create_lookup_tables(token_target_text)\n"
   ]
  },
  {
   "cell_type": "code",
   "execution_count": 4,
   "metadata": {},
   "outputs": [
    {
     "name": "stdout",
     "output_type": "stream",
     "text": [
      "['new', 'jersey', 'est', 'parfois', 'calme', 'pendant', \"l'\", 'automne', '<comma>', 'et', 'il', 'est', 'neigeux', 'en', 'avril', '<period>', '<eos>', 'les', 'états-unis', 'est', 'généralement', 'froid', 'en', 'juillet', '<comma>', 'et', 'il', 'gèle', 'habituellement', 'en', 'novembre', '<period>', '<eos>', 'california', 'est', 'généralement', 'calme', 'en', 'mars', '<comma>', 'et', 'il', 'est', 'généralement', 'chaud', 'en', 'juin', '<period>', '<eos>', 'les']\n",
      "est ID:  0\n",
      "EOS ID:  1\n"
     ]
    }
   ],
   "source": [
    "print(token_target_text[0:50])\n",
    "print(\"est ID: \", target_vocab_to_int['est'])\n",
    "print(\"EOS ID: \", target_vocab_to_int['<eos>'])"
   ]
  },
  {
   "cell_type": "code",
   "execution_count": 5,
   "metadata": {},
   "outputs": [
    {
     "name": "stdout",
     "output_type": "stream",
     "text": [
      "Tests Passed\n"
     ]
    }
   ],
   "source": [
    "def text_to_ids(source_text, target_text, source_vocab_to_int, target_vocab_to_int):\n",
    "    \"\"\"\n",
    "    Convert source and target text to proper word ids\n",
    "    :param source_text: String that contains all the source text.\n",
    "    :param target_text: String that contains all the target text.\n",
    "    :param source_vocab_to_int: Dictionary to go from the source words to an id\n",
    "    :param target_vocab_to_int: Dictionary to go from the target words to an id\n",
    "    :return: A tuple of lists (source_id_text, target_id_text)\n",
    "    \"\"\"\n",
    "    # TODO: Implement Function\n",
    "    token_source_sentences = source_text.split('\\n')\n",
    "    source_id_text = []\n",
    "    for sentence in token_source_sentences:\n",
    "        words = sentence.split()\n",
    "        id_text = [source_vocab_to_int[word] for word in words]\n",
    "        source_id_text.append(id_text)\n",
    "\n",
    "    token_target_text = target_text.replace('.', '. <EOS>')\n",
    "    token_target_sentences = token_target_text.split('\\n')\n",
    "    target_id_text = []\n",
    "    for sentence in token_target_sentences:\n",
    "        words = sentence.split()\n",
    "        id_text = [target_vocab_to_int[word] for word in words]\n",
    "        target_id_text.append(id_text)\n",
    "    \n",
    "    return source_id_text, target_id_text\n",
    "\n",
    "\"\"\"\n",
    "DON'T MODIFY ANYTHING IN THIS CELL THAT IS BELOW THIS LINE\n",
    "\"\"\"\n",
    "tests.test_text_to_ids(text_to_ids)"
   ]
  },
  {
   "cell_type": "markdown",
   "metadata": {},
   "source": [
    "### Preprocess all the data and save it\n",
    "Running the code cell below will preprocess all the data and save it to file."
   ]
  },
  {
   "cell_type": "code",
   "execution_count": 6,
   "metadata": {
    "collapsed": true
   },
   "outputs": [],
   "source": [
    "\"\"\"\n",
    "DON'T MODIFY ANYTHING IN THIS CELL\n",
    "\"\"\"\n",
    "helper.preprocess_and_save_data(source_path, target_path, text_to_ids)"
   ]
  },
  {
   "cell_type": "markdown",
   "metadata": {},
   "source": [
    "# Check Point\n",
    "This is your first checkpoint. If you ever decide to come back to this notebook or have to restart the notebook, you can start from here. The preprocessed data has been saved to disk."
   ]
  },
  {
   "cell_type": "code",
   "execution_count": 7,
   "metadata": {
    "collapsed": true
   },
   "outputs": [],
   "source": [
    "\"\"\"\n",
    "DON'T MODIFY ANYTHING IN THIS CELL\n",
    "\"\"\"\n",
    "import numpy as np\n",
    "import helper\n",
    "\n",
    "(source_int_text, target_int_text), (source_vocab_to_int, target_vocab_to_int), _ = helper.load_preprocess()"
   ]
  },
  {
   "cell_type": "markdown",
   "metadata": {},
   "source": [
    "### Check the Version of TensorFlow and Access to GPU\n",
    "This will check to make sure you have the correct version of TensorFlow and access to a GPU"
   ]
  },
  {
   "cell_type": "code",
   "execution_count": 8,
   "metadata": {},
   "outputs": [
    {
     "name": "stdout",
     "output_type": "stream",
     "text": [
      "1.1.0\n",
      "TensorFlow Version: 1.1.0\n",
      "Default GPU Device: /gpu:0\n"
     ]
    }
   ],
   "source": [
    "\"\"\"\n",
    "DON'T MODIFY ANYTHING IN THIS CELL\n",
    "\"\"\"\n",
    "from distutils.version import LooseVersion\n",
    "import warnings\n",
    "import tensorflow as tf\n",
    "from tensorflow.python.layers.core import Dense\n",
    "\n",
    "print(LooseVersion(tf.__version__))\n",
    "# Check TensorFlow Version\n",
    "assert LooseVersion(tf.__version__) >= LooseVersion('1.1'), 'Please use TensorFlow version 1.1 or newer'\n",
    "print('TensorFlow Version: {}'.format(tf.__version__))\n",
    "\n",
    "# Check for a GPU\n",
    "if not tf.test.gpu_device_name():\n",
    "    warnings.warn('No GPU found. Please use a GPU to train your neural network.')\n",
    "else:\n",
    "    print('Default GPU Device: {}'.format(tf.test.gpu_device_name()))"
   ]
  },
  {
   "cell_type": "markdown",
   "metadata": {},
   "source": [
    "## Build the Neural Network\n",
    "You'll build the components necessary to build a Sequence-to-Sequence model by implementing the following functions below:\n",
    "- `model_inputs`\n",
    "- `process_decoder_input`\n",
    "- `encoding_layer`\n",
    "- `decoding_layer_train`\n",
    "- `decoding_layer_infer`\n",
    "- `decoding_layer`\n",
    "- `seq2seq_model`\n",
    "\n",
    "### Input\n",
    "Implement the `model_inputs()` function to create TF Placeholders for the Neural Network. It should create the following placeholders:\n",
    "\n",
    "- Input text placeholder named \"input\" using the TF Placeholder name parameter with rank 2.\n",
    "- Targets placeholder with rank 2.\n",
    "- Learning rate placeholder with rank 0.\n",
    "- Keep probability placeholder named \"keep_prob\" using the TF Placeholder name parameter with rank 0.\n",
    "- Target sequence length placeholder named \"target_sequence_length\" with rank 1\n",
    "- Max target sequence length tensor named \"max_target_len\" getting its value from applying tf.reduce_max on the target_sequence_length placeholder. Rank 0.\n",
    "- Source sequence length placeholder named \"source_sequence_length\" with rank 1\n",
    "\n",
    "Return the placeholders in the following the tuple (input, targets, learning rate, keep probability, target sequence length, max target sequence length, source sequence length)"
   ]
  },
  {
   "cell_type": "code",
   "execution_count": 9,
   "metadata": {},
   "outputs": [
    {
     "name": "stdout",
     "output_type": "stream",
     "text": [
      "Tests Passed\n"
     ]
    }
   ],
   "source": [
    "def model_inputs():\n",
    "    \"\"\"\n",
    "    Create TF Placeholders for input, targets, learning rate, and lengths of source and target sequences.\n",
    "    :return: Tuple (input, targets, learning rate, keep probability, target sequence length,\n",
    "    max target sequence length, source sequence length)\n",
    "    \"\"\"\n",
    "    # TODO: Implement Function\n",
    "    inputs = tf.placeholder(tf.int32, [None, None], name='input')\n",
    "    targets = tf.placeholder(tf.int32, [None, None], name='target')\n",
    "    learning_rate = tf.placeholder(tf.float32, name='learning_rate')\n",
    "    keep_prob = tf.placeholder(tf.float32, name='keep_prob')\n",
    "    target_sequence_length = tf.placeholder(tf.int32, [None], name='target_sequence_length')\n",
    "    max_target_len = tf.reduce_max(target_sequence_length, name='max_target_len')\n",
    "    source_sequence_length = tf.placeholder(tf.int32, [None], name='source_sequence_length')\n",
    "                               \n",
    "    return inputs, targets, learning_rate, keep_prob, target_sequence_length, \\\n",
    "        max_target_len, source_sequence_length\n",
    "\n",
    "\n",
    "\"\"\"\n",
    "DON'T MODIFY ANYTHING IN THIS CELL THAT IS BELOW THIS LINE\n",
    "\"\"\"\n",
    "tests.test_model_inputs(model_inputs)"
   ]
  },
  {
   "cell_type": "markdown",
   "metadata": {},
   "source": [
    "### Process Decoder Input\n",
    "Implement `process_decoder_input` by removing the last word id from each batch in `target_data` and concat the GO ID to the begining of each batch."
   ]
  },
  {
   "cell_type": "code",
   "execution_count": 10,
   "metadata": {},
   "outputs": [
    {
     "name": "stdout",
     "output_type": "stream",
     "text": [
      "GO ID 358\n"
     ]
    }
   ],
   "source": [
    "# Add a vocab id for 'GO'\n",
    "max_vocab_to_int = max(target_vocab_to_int.values())\n",
    "target_vocab_to_int['<GO>'] = max_vocab_to_int + 1\n",
    "print(\"GO ID\", target_vocab_to_int['<GO>'])"
   ]
  },
  {
   "cell_type": "code",
   "execution_count": 11,
   "metadata": {},
   "outputs": [
    {
     "name": "stdout",
     "output_type": "stream",
     "text": [
      "GO ID:  3\n",
      "Tests Passed\n"
     ]
    }
   ],
   "source": [
    "def process_decoder_input(target_data, target_vocab_to_int, batch_size):\n",
    "    \"\"\"\n",
    "    Preprocess target data for encoding\n",
    "    :param target_data: Target Placehoder\n",
    "    :param target_vocab_to_int: Dictionary to go from the target words to an id\n",
    "    :param batch_size: Batch Size\n",
    "    :return: Preprocessed target data\n",
    "    \"\"\"\n",
    "    # TODO: Implement Function\n",
    "    go_id = target_vocab_to_int['<GO>']\n",
    "    print(\"GO ID: \", go_id)\n",
    "    first_column = tf.fill([batch_size, 1], go_id)\n",
    "    no_last_word = tf.strided_slice(target_data, [0, 0], [batch_size, -1], [1, 1])\n",
    "    with_first_column = tf.concat([first_column, no_last_word], 1)\n",
    "    return with_first_column\n",
    "\n",
    "\"\"\"\n",
    "DON'T MODIFY ANYTHING IN THIS CELL THAT IS BELOW THIS LINE\n",
    "\"\"\"\n",
    "tests.test_process_encoding_input(process_decoder_input)"
   ]
  },
  {
   "cell_type": "markdown",
   "metadata": {},
   "source": [
    "### Encoding\n",
    "Implement `encoding_layer()` to create a Encoder RNN layer:\n",
    " * Embed the encoder input using [`tf.contrib.layers.embed_sequence`](https://www.tensorflow.org/api_docs/python/tf/contrib/layers/embed_sequence)\n",
    " * Construct a [stacked](https://github.com/tensorflow/tensorflow/blob/6947f65a374ebf29e74bb71e36fd82760056d82c/tensorflow/docs_src/tutorials/recurrent.md#stacking-multiple-lstms) [`tf.contrib.rnn.LSTMCell`](https://www.tensorflow.org/api_docs/python/tf/contrib/rnn/LSTMCell) wrapped in a [`tf.contrib.rnn.DropoutWrapper`](https://www.tensorflow.org/api_docs/python/tf/contrib/rnn/DropoutWrapper)\n",
    " * Pass cell and embedded input to [`tf.nn.dynamic_rnn()`](https://www.tensorflow.org/api_docs/python/tf/nn/dynamic_rnn)"
   ]
  },
  {
   "cell_type": "code",
   "execution_count": 12,
   "metadata": {
    "scrolled": false
   },
   "outputs": [
    {
     "name": "stdout",
     "output_type": "stream",
     "text": [
      "Tests Passed\n"
     ]
    }
   ],
   "source": [
    "from imp import reload\n",
    "reload(tests)\n",
    "def lstm_cell(rnn_size):\n",
    "    return tf.contrib.rnn.BasicLSTMCell(rnn_size)\n",
    "\n",
    "def encoding_layer(rnn_inputs, rnn_size, num_layers, keep_prob, \n",
    "                   source_sequence_length, source_vocab_size, \n",
    "                   encoding_embedding_size):\n",
    "    \"\"\"\n",
    "    Create encoding layer\n",
    "    :param rnn_inputs: Inputs for the RNN\n",
    "    :param rnn_size: RNN Size\n",
    "    :param num_layers: Number of layers\n",
    "    :param keep_prob: Dropout keep probability\n",
    "    :param source_sequence_length: a list of the lengths of each sequence in the batch\n",
    "    :param source_vocab_size: vocabulary size of source data\n",
    "    :param encoding_embedding_size: embedding size of source data\n",
    "    :return: tuple (RNN output, RNN state)\n",
    "    \"\"\"\n",
    "    # TODO: Implement Function\n",
    "    # Stack up multiple LSTM layers, for deep learning... Need to stack different multiple\n",
    "    # lstm layers for tensorflow v1.2: \n",
    "    # https://stackoverflow.com/questions/44615147/valueerror-trying-to-share-variable-rnn-multi-rnn-cell-cell-0-basic-lstm-cell-k\n",
    "    stacked_lstm = tf.contrib.rnn.MultiRNNCell([lstm_cell(rnn_size) for _ in range(num_layers)])\n",
    "    enc_cell = tf.contrib.rnn.DropoutWrapper(stacked_lstm, keep_prob)\n",
    "    \n",
    "    #print(\"State Size\", cell.state_size)\n",
    "\n",
    "    embed = tf.contrib.layers.embed_sequence(rnn_inputs, source_vocab_size, encoding_embedding_size)\n",
    "    #print(embed.get_shape())\n",
    "    \n",
    "    outputs, final_state = tf.nn.dynamic_rnn(enc_cell, embed, sequence_length=source_sequence_length, dtype=tf.float32)\n",
    "    \n",
    "    # final_state = tf.identity(final_state, name='final_state')\n",
    "    return outputs, final_state\n",
    "\n",
    "\"\"\"\n",
    "DON'T MODIFY ANYTHING IN THIS CELL THAT IS BELOW THIS LINE\n",
    "\"\"\"\n",
    "tests.test_encoding_layer(encoding_layer)"
   ]
  },
  {
   "cell_type": "markdown",
   "metadata": {},
   "source": [
    "### Decoding - Training\n",
    "Create a training decoding layer:\n",
    "* Create a [`tf.contrib.seq2seq.TrainingHelper`](https://www.tensorflow.org/api_docs/python/tf/contrib/seq2seq/TrainingHelper) \n",
    "* Create a [`tf.contrib.seq2seq.BasicDecoder`](https://www.tensorflow.org/api_docs/python/tf/contrib/seq2seq/BasicDecoder)\n",
    "* Obtain the decoder outputs from [`tf.contrib.seq2seq.dynamic_decode`](https://www.tensorflow.org/api_docs/python/tf/contrib/seq2seq/dynamic_decode)"
   ]
  },
  {
   "cell_type": "code",
   "execution_count": 13,
   "metadata": {},
   "outputs": [
    {
     "name": "stdout",
     "output_type": "stream",
     "text": [
      "Tests Passed\n"
     ]
    }
   ],
   "source": [
    "\n",
    "def decoding_layer_train(encoder_state, dec_cell, dec_embed_input, \n",
    "                         target_sequence_length, max_summary_length, \n",
    "                         output_layer, keep_prob):\n",
    "    \"\"\"\n",
    "    Create a decoding layer for training\n",
    "    :param encoder_state: Encoder State\n",
    "    :param dec_cell: Decoder RNN Cell\n",
    "    :param dec_embed_input: Decoder embedded input\n",
    "    :param target_sequence_length: The lengths of each sequence in the target batch\n",
    "    :param max_summary_length: The length of the longest sequence in the batch\n",
    "    :param output_layer: Function to apply the output layer\n",
    "    :param keep_prob: Dropout keep probability\n",
    "    :return: BasicDecoderOutput containing training logits and sample_id\n",
    "    \"\"\"\n",
    "    # TODO: Implement Function\n",
    "    training_helper = tf.contrib.seq2seq.TrainingHelper(dec_embed_input, target_sequence_length)\n",
    "    decoder = tf.contrib.seq2seq.BasicDecoder(dec_cell, training_helper, encoder_state, output_layer)\n",
    "    outputs, _ = tf.contrib.seq2seq.dynamic_decode(decoder, maximum_iterations=max_summary_length)\n",
    "    return outputs\n",
    "\n",
    "\n",
    "\n",
    "\"\"\"\n",
    "DON'T MODIFY ANYTHING IN THIS CELL THAT IS BELOW THIS LINE\n",
    "\"\"\"\n",
    "tests.test_decoding_layer_train(decoding_layer_train)"
   ]
  },
  {
   "cell_type": "markdown",
   "metadata": {},
   "source": [
    "### Decoding - Inference\n",
    "Create inference decoder:\n",
    "* Create a [`tf.contrib.seq2seq.GreedyEmbeddingHelper`](https://www.tensorflow.org/api_docs/python/tf/contrib/seq2seq/GreedyEmbeddingHelper)\n",
    "* Create a [`tf.contrib.seq2seq.BasicDecoder`](https://www.tensorflow.org/api_docs/python/tf/contrib/seq2seq/BasicDecoder)\n",
    "* Obtain the decoder outputs from [`tf.contrib.seq2seq.dynamic_decode`](https://www.tensorflow.org/api_docs/python/tf/contrib/seq2seq/dynamic_decode)"
   ]
  },
  {
   "cell_type": "code",
   "execution_count": 14,
   "metadata": {
    "scrolled": true
   },
   "outputs": [
    {
     "name": "stdout",
     "output_type": "stream",
     "text": [
      "Tests Passed\n"
     ]
    }
   ],
   "source": [
    "def decoding_layer_infer(encoder_state, dec_cell, dec_embeddings, start_of_sequence_id,\n",
    "                         end_of_sequence_id, max_target_sequence_length,\n",
    "                         vocab_size, output_layer, batch_size, keep_prob):\n",
    "    \"\"\"\n",
    "    Create a decoding layer for inference\n",
    "    :param encoder_state: Encoder state\n",
    "    :param dec_cell: Decoder RNN Cell\n",
    "    :param dec_embeddings: Decoder embeddings\n",
    "    :param start_of_sequence_id: GO ID\n",
    "    :param end_of_sequence_id: EOS Id\n",
    "    :param max_target_sequence_length: Maximum length of target sequences\n",
    "    :param vocab_size: Size of decoder/target vocabulary\n",
    "    :param decoding_scope: TenorFlow Variable Scope for decoding\n",
    "    :param output_layer: Function to apply the output layer\n",
    "    :param batch_size: Batch size\n",
    "    :param keep_prob: Dropout keep probability\n",
    "    :return: BasicDecoderOutput containing inference logits and sample_id\n",
    "    \"\"\"\n",
    "    # TODO: Implement Function\n",
    "    start_tokens = tf.tile(tf.constant([start_of_sequence_id], dtype=tf.int32), [batch_size])\n",
    "    helper = tf.contrib.seq2seq.GreedyEmbeddingHelper(dec_embeddings, start_tokens, \\\n",
    "        end_of_sequence_id)\n",
    "    decoder = tf.contrib.seq2seq.BasicDecoder(dec_cell, helper, encoder_state, output_layer)\n",
    "    outputs, _ = tf.contrib.seq2seq.dynamic_decode(decoder, maximum_iterations=max_target_sequence_length)\n",
    "    return outputs\n",
    "\n",
    "\n",
    "\n",
    "\"\"\"\n",
    "DON'T MODIFY ANYTHING IN THIS CELL THAT IS BELOW THIS LINE\n",
    "\"\"\"\n",
    "tests.test_decoding_layer_infer(decoding_layer_infer)"
   ]
  },
  {
   "cell_type": "markdown",
   "metadata": {},
   "source": [
    "### Build the Decoding Layer\n",
    "Implement `decoding_layer()` to create a Decoder RNN layer.\n",
    "\n",
    "* Embed the target sequences\n",
    "* Construct the decoder LSTM cell (just like you constructed the encoder cell above)\n",
    "* Create an output layer to map the outputs of the decoder to the elements of our vocabulary\n",
    "* Use the your `decoding_layer_train(encoder_state, dec_cell, dec_embed_input, target_sequence_length, max_target_sequence_length, output_layer, keep_prob)` function to get the training logits.\n",
    "* Use your `decoding_layer_infer(encoder_state, dec_cell, dec_embeddings, start_of_sequence_id, end_of_sequence_id, max_target_sequence_length, vocab_size, output_layer, batch_size, keep_prob)` function to get the inference logits.\n",
    "\n",
    "Note: You'll need to use [tf.variable_scope](https://www.tensorflow.org/api_docs/python/tf/variable_scope) to share variables between training and inference."
   ]
  },
  {
   "cell_type": "code",
   "execution_count": 15,
   "metadata": {},
   "outputs": [
    {
     "name": "stdout",
     "output_type": "stream",
     "text": [
      "Tests Passed\n"
     ]
    }
   ],
   "source": [
    "def decoding_layer(dec_input, encoder_state,\n",
    "                   target_sequence_length, max_target_sequence_length,\n",
    "                   rnn_size,\n",
    "                   num_layers, target_vocab_to_int, target_vocab_size,\n",
    "                   batch_size, keep_prob, decoding_embedding_size):\n",
    "    \"\"\"\n",
    "    Create decoding layer\n",
    "    :param dec_input: Decoder input\n",
    "    :param encoder_state: Encoder state\n",
    "    :param target_sequence_length: The lengths of each sequence in the target batch\n",
    "    :param max_target_sequence_length: Maximum length of target sequences\n",
    "    :param rnn_size: RNN Size\n",
    "    :param num_layers: Number of layers\n",
    "    :param target_vocab_to_int: Dictionary to go from the target words to an id\n",
    "    :param target_vocab_size: Size of target vocabulary\n",
    "    :param batch_size: The size of the batch\n",
    "    :param keep_prob: Dropout keep probability\n",
    "    :param decoding_embedding_size: Decoding embedding size\n",
    "    :return: Tuple of (Training BasicDecoderOutput, Inference BasicDecoderOutput)\n",
    "    \"\"\"\n",
    "    # TODO: Implement Function\n",
    "    # Embed target sequences\n",
    "    embed = tf.contrib.layers.embed_sequence(dec_input, target_vocab_size, decoding_embedding_size)\n",
    "    dec_embeddings = tf.Variable(tf.random_uniform([target_vocab_size, decoding_embedding_size]))\n",
    "    dec_embed_input = tf.nn.embedding_lookup(dec_embeddings, dec_input)\n",
    "\n",
    "    # Construct the decoder LSTM cell (just like you constructed the encoder cell above)\n",
    "    stacked_lstm = tf.contrib.rnn.MultiRNNCell([lstm_cell(rnn_size) for _ in range(num_layers)])\n",
    "    dec_cell = tf.contrib.rnn.DropoutWrapper(stacked_lstm, keep_prob)\n",
    "\n",
    "    # Create an output layer to map the outputs of the decoder to the elements of our vocabulary\n",
    "    output_layer = Dense(target_vocab_size,\n",
    "        kernel_initializer = tf.truncated_normal_initializer(mean = 0.0, stddev=0.1))\n",
    "\n",
    "    with tf.variable_scope(\"decoding_layer\", reuse=None) as dec_scope:        \n",
    "        # Use the your decoding_layer_train(encoder_state, dec_cell, dec_embed_input, target_sequence_length, \n",
    "        # max_target_sequence_length, output_layer, keep_prob) function to get the training logits.\n",
    "        train_logits = decoding_layer_train(encoder_state, dec_cell, dec_embed_input, target_sequence_length, \\\n",
    "            max_target_sequence_length, output_layer, keep_prob)\n",
    "\n",
    "    # Use your decoding_layer_infer(encoder_state, dec_cell, dec_embeddings, start_of_sequence_id, \n",
    "    # end_of_sequence_id, max_target_sequence_length, vocab_size, output_layer, batch_size, keep_prob) \n",
    "    # function to get the inference logits\n",
    "    start_id = target_vocab_to_int['<GO>']\n",
    "    end_id = target_vocab_to_int['<EOS>']\n",
    "\n",
    "    with tf.variable_scope(\"decoding_layer\", reuse=True) as dec_scope:        \n",
    "        infer_logits = decoding_layer_infer(encoder_state, dec_cell, dec_embeddings, start_id, end_id, \\\n",
    "            max_target_sequence_length, target_vocab_size, output_layer, batch_size, keep_prob)\n",
    "\n",
    "    return train_logits, infer_logits\n",
    "\n",
    "\n",
    "\n",
    "\"\"\"\n",
    "DON'T MODIFY ANYTHING IN THIS CELL THAT IS BELOW THIS LINE\n",
    "\"\"\"\n",
    "tests.test_decoding_layer(decoding_layer)"
   ]
  },
  {
   "cell_type": "markdown",
   "metadata": {},
   "source": [
    "### Build the Neural Network\n",
    "Apply the functions you implemented above to:\n",
    "\n",
    "- Encode the input using your `encoding_layer(rnn_inputs, rnn_size, num_layers, keep_prob,  source_sequence_length, source_vocab_size, encoding_embedding_size)`.\n",
    "- Process target data using your `process_decoder_input(target_data, target_vocab_to_int, batch_size)` function.\n",
    "- Decode the encoded input using your `decoding_layer(dec_input, enc_state, target_sequence_length, max_target_sentence_length, rnn_size, num_layers, target_vocab_to_int, target_vocab_size, batch_size, keep_prob, dec_embedding_size)` function."
   ]
  },
  {
   "cell_type": "code",
   "execution_count": 16,
   "metadata": {},
   "outputs": [
    {
     "name": "stdout",
     "output_type": "stream",
     "text": [
      "GO ID:  3\n",
      "Tests Passed\n"
     ]
    }
   ],
   "source": [
    "def seq2seq_model(input_data, target_data, keep_prob, batch_size,\n",
    "                  source_sequence_length, target_sequence_length,\n",
    "                  max_target_sentence_length,\n",
    "                  source_vocab_size, target_vocab_size,\n",
    "                  enc_embedding_size, dec_embedding_size,\n",
    "                  rnn_size, num_layers, target_vocab_to_int):\n",
    "    \"\"\"\n",
    "    Build the Sequence-to-Sequence part of the neural network\n",
    "    :param input_data: Input placeholder\n",
    "    :param target_data: Target placeholder\n",
    "    :param keep_prob: Dropout keep probability placeholder\n",
    "    :param batch_size: Batch Size\n",
    "    :param source_sequence_length: Sequence Lengths of source sequences in the batch\n",
    "    :param target_sequence_length: Sequence Lengths of target sequences in the batch\n",
    "    :param source_vocab_size: Source vocabulary size\n",
    "    :param target_vocab_size: Target vocabulary size\n",
    "    :param enc_embedding_size: Decoder embedding size\n",
    "    :param dec_embedding_size: Encoder embedding size\n",
    "    :param rnn_size: RNN Size\n",
    "    :param num_layers: Number of layers\n",
    "    :param target_vocab_to_int: Dictionary to go from the target words to an id\n",
    "    :return: Tuple of (Training BasicDecoderOutput, Inference BasicDecoderOutput)\n",
    "    \"\"\"\n",
    "    # TODO: Implement Function\n",
    "\n",
    "    # Encode the input using your encoding_layer(rnn_inputs, rnn_size, num_layers, keep_prob,\n",
    "    # source_sequence_length, source_vocab_size, encoding_embedding_size).\n",
    "    enc_outputs, enc_state = encoding_layer(input_data, rnn_size, num_layers, keep_prob, \\\n",
    "        source_sequence_length, source_vocab_size, enc_embedding_size)\n",
    "    \n",
    "    # Process target data using your process_decoder_input(target_data, target_vocab_to_int, batch_size) \\\n",
    "    # function.\n",
    "    dec_input = process_decoder_input(target_data, target_vocab_to_int, batch_size)\n",
    "    \n",
    "    # Decode the encoded input using your decoding_layer(dec_input, enc_state, target_sequence_length, \\\n",
    "    # max_target_sentence_length, rnn_size, num_layers, target_vocab_to_int, target_vocab_size, \\\n",
    "    # batch_size, keep_prob, dec_embedding_size) function.\n",
    "    train_logits, infer_logits = decoding_layer(dec_input, enc_state, target_sequence_length,\\\n",
    "        max_target_sentence_length, rnn_size, num_layers, target_vocab_to_int, target_vocab_size, \\\n",
    "        batch_size, keep_prob, dec_embedding_size)\n",
    "    \n",
    "    return train_logits, infer_logits\n",
    "\n",
    "\n",
    "\"\"\"\n",
    "DON'T MODIFY ANYTHING IN THIS CELL THAT IS BELOW THIS LINE\n",
    "\"\"\"\n",
    "tests.test_seq2seq_model(seq2seq_model)"
   ]
  },
  {
   "cell_type": "markdown",
   "metadata": {},
   "source": [
    "## Neural Network Training\n",
    "### Hyperparameters\n",
    "Tune the following parameters:\n",
    "\n",
    "- Set `epochs` to the number of epochs.\n",
    "- Set `batch_size` to the batch size.\n",
    "- Set `rnn_size` to the size of the RNNs.\n",
    "- Set `num_layers` to the number of layers.\n",
    "- Set `encoding_embedding_size` to the size of the embedding for the encoder.\n",
    "- Set `decoding_embedding_size` to the size of the embedding for the decoder.\n",
    "- Set `learning_rate` to the learning rate.\n",
    "- Set `keep_probability` to the Dropout keep probability\n",
    "- Set `display_step` to state how many steps between each debug output statement"
   ]
  },
  {
   "cell_type": "code",
   "execution_count": 21,
   "metadata": {
    "collapsed": true
   },
   "outputs": [],
   "source": [
    "# Number of Epochs\n",
    "epochs = 8\n",
    "# Batch Size\n",
    "batch_size = 64\n",
    "# RNN Size\n",
    "rnn_size = 256\n",
    "# Number of Layers\n",
    "num_layers = 2\n",
    "# Embedding Size\n",
    "encoding_embedding_size = 32 \n",
    "decoding_embedding_size = 32   \n",
    "# Learning Rate\n",
    "learning_rate = 0.001\n",
    "# Dropout Keep Probability\n",
    "keep_probability = 0.5\n",
    "display_step = 100"
   ]
  },
  {
   "cell_type": "markdown",
   "metadata": {},
   "source": [
    "### Build the Graph\n",
    "Build the graph using the neural network you implemented."
   ]
  },
  {
   "cell_type": "code",
   "execution_count": 22,
   "metadata": {},
   "outputs": [
    {
     "name": "stdout",
     "output_type": "stream",
     "text": [
      "GO ID:  3\n"
     ]
    }
   ],
   "source": [
    "\"\"\"\n",
    "DON'T MODIFY ANYTHING IN THIS CELL\n",
    "\"\"\"\n",
    "save_path = 'checkpoints/dev'\n",
    "(source_int_text, target_int_text), (source_vocab_to_int, target_vocab_to_int), _ = helper.load_preprocess()\n",
    "max_target_sentence_length = max([len(sentence) for sentence in source_int_text])\n",
    "\n",
    "train_graph = tf.Graph()\n",
    "with train_graph.as_default():\n",
    "    input_data, targets, lr, keep_prob, target_sequence_length, max_target_sequence_length, source_sequence_length = model_inputs()\n",
    "\n",
    "    #sequence_length = tf.placeholder_with_default(max_target_sentence_length, None, name='sequence_length')\n",
    "    input_shape = tf.shape(input_data)\n",
    "\n",
    "    train_logits, inference_logits = seq2seq_model(tf.reverse(input_data, [-1]),\n",
    "                                                   targets,\n",
    "                                                   keep_prob,\n",
    "                                                   batch_size,\n",
    "                                                   source_sequence_length,\n",
    "                                                   target_sequence_length,\n",
    "                                                   max_target_sequence_length,\n",
    "                                                   len(source_vocab_to_int),\n",
    "                                                   len(target_vocab_to_int),\n",
    "                                                   encoding_embedding_size,\n",
    "                                                   decoding_embedding_size,\n",
    "                                                   rnn_size,\n",
    "                                                   num_layers,\n",
    "                                                   target_vocab_to_int)\n",
    "\n",
    "\n",
    "    training_logits = tf.identity(train_logits.rnn_output, name='logits')\n",
    "    inference_logits = tf.identity(inference_logits.sample_id, name='predictions')\n",
    "\n",
    "    masks = tf.sequence_mask(target_sequence_length, max_target_sequence_length, dtype=tf.float32, name='masks')\n",
    "\n",
    "    with tf.name_scope(\"optimization\"):\n",
    "        # Loss function\n",
    "        cost = tf.contrib.seq2seq.sequence_loss(\n",
    "            training_logits,\n",
    "            targets,\n",
    "            masks)\n",
    "\n",
    "        # Optimizer\n",
    "        optimizer = tf.train.AdamOptimizer(lr)\n",
    "\n",
    "        # Gradient Clipping\n",
    "        gradients = optimizer.compute_gradients(cost)\n",
    "        capped_gradients = [(tf.clip_by_value(grad, -1., 1.), var) for grad, var in gradients if grad is not None]\n",
    "        train_op = optimizer.apply_gradients(capped_gradients)\n"
   ]
  },
  {
   "cell_type": "markdown",
   "metadata": {},
   "source": [
    "Batch and pad the source and target sequences"
   ]
  },
  {
   "cell_type": "code",
   "execution_count": 23,
   "metadata": {
    "collapsed": true
   },
   "outputs": [],
   "source": [
    "\"\"\"\n",
    "DON'T MODIFY ANYTHING IN THIS CELL\n",
    "\"\"\"\n",
    "def pad_sentence_batch(sentence_batch, pad_int):\n",
    "    \"\"\"Pad sentences with <PAD> so that each sentence of a batch has the same length\"\"\"\n",
    "    max_sentence = max([len(sentence) for sentence in sentence_batch])\n",
    "    return [sentence + [pad_int] * (max_sentence - len(sentence)) for sentence in sentence_batch]\n",
    "\n",
    "\n",
    "def get_batches(sources, targets, batch_size, source_pad_int, target_pad_int):\n",
    "    \"\"\"Batch targets, sources, and the lengths of their sentences together\"\"\"\n",
    "    for batch_i in range(0, len(sources)//batch_size):\n",
    "        start_i = batch_i * batch_size\n",
    "\n",
    "        # Slice the right amount for the batch\n",
    "        sources_batch = sources[start_i:start_i + batch_size]\n",
    "        targets_batch = targets[start_i:start_i + batch_size]\n",
    "\n",
    "        # Pad\n",
    "        pad_sources_batch = np.array(pad_sentence_batch(sources_batch, source_pad_int))\n",
    "        pad_targets_batch = np.array(pad_sentence_batch(targets_batch, target_pad_int))\n",
    "\n",
    "        # Need the lengths for the _lengths parameters\n",
    "        pad_targets_lengths = []\n",
    "        for target in pad_targets_batch:\n",
    "            pad_targets_lengths.append(len(target))\n",
    "\n",
    "        pad_source_lengths = []\n",
    "        for source in pad_sources_batch:\n",
    "            pad_source_lengths.append(len(source))\n",
    "\n",
    "        yield pad_sources_batch, pad_targets_batch, pad_source_lengths, pad_targets_lengths\n"
   ]
  },
  {
   "cell_type": "markdown",
   "metadata": {},
   "source": [
    "### Train\n",
    "Train the neural network on the preprocessed data. If you have a hard time getting a good loss, check the forms to see if anyone is having the same problem."
   ]
  },
  {
   "cell_type": "code",
   "execution_count": 24,
   "metadata": {
    "scrolled": true
   },
   "outputs": [
    {
     "name": "stdout",
     "output_type": "stream",
     "text": [
      "Epoch   0 Batch  100/2154 - Train Accuracy: 0.3996, Validation Accuracy: 0.4602, Loss: 2.4994\n",
      "Epoch   0 Batch  200/2154 - Train Accuracy: 0.4164, Validation Accuracy: 0.4588, Loss: 1.8911\n",
      "Epoch   0 Batch  300/2154 - Train Accuracy: 0.4350, Validation Accuracy: 0.4524, Loss: 1.5301\n",
      "Epoch   0 Batch  400/2154 - Train Accuracy: 0.5023, Validation Accuracy: 0.4730, Loss: 1.1786\n",
      "Epoch   0 Batch  500/2154 - Train Accuracy: 0.4753, Validation Accuracy: 0.5071, Loss: 1.0225\n",
      "Epoch   0 Batch  600/2154 - Train Accuracy: 0.5296, Validation Accuracy: 0.5277, Loss: 0.8966\n",
      "Epoch   0 Batch  700/2154 - Train Accuracy: 0.4803, Validation Accuracy: 0.4979, Loss: 0.8503\n",
      "Epoch   0 Batch  800/2154 - Train Accuracy: 0.4712, Validation Accuracy: 0.5270, Loss: 0.8192\n",
      "Epoch   0 Batch  900/2154 - Train Accuracy: 0.5321, Validation Accuracy: 0.5369, Loss: 0.7912\n",
      "Epoch   0 Batch 1000/2154 - Train Accuracy: 0.5424, Validation Accuracy: 0.5554, Loss: 0.6871\n",
      "Epoch   0 Batch 1100/2154 - Train Accuracy: 0.5367, Validation Accuracy: 0.5682, Loss: 0.7134\n",
      "Epoch   0 Batch 1200/2154 - Train Accuracy: 0.5452, Validation Accuracy: 0.5703, Loss: 0.7730\n",
      "Epoch   0 Batch 1300/2154 - Train Accuracy: 0.5508, Validation Accuracy: 0.5994, Loss: 0.6577\n",
      "Epoch   0 Batch 1400/2154 - Train Accuracy: 0.5370, Validation Accuracy: 0.5682, Loss: 0.6457\n",
      "Epoch   0 Batch 1500/2154 - Train Accuracy: 0.5831, Validation Accuracy: 0.5859, Loss: 0.6498\n",
      "Epoch   0 Batch 1600/2154 - Train Accuracy: 0.6312, Validation Accuracy: 0.5952, Loss: 0.6018\n",
      "Epoch   0 Batch 1700/2154 - Train Accuracy: 0.6062, Validation Accuracy: 0.5902, Loss: 0.5569\n",
      "Epoch   0 Batch 1800/2154 - Train Accuracy: 0.5672, Validation Accuracy: 0.5703, Loss: 0.6053\n",
      "Epoch   0 Batch 1900/2154 - Train Accuracy: 0.6461, Validation Accuracy: 0.5959, Loss: 0.4991\n",
      "Epoch   0 Batch 2000/2154 - Train Accuracy: 0.6234, Validation Accuracy: 0.6342, Loss: 0.5226\n",
      "Epoch   0 Batch 2100/2154 - Train Accuracy: 0.6258, Validation Accuracy: 0.6442, Loss: 0.5216\n",
      "Epoch   1 Batch  100/2154 - Train Accuracy: 0.5833, Validation Accuracy: 0.6214, Loss: 0.4987\n",
      "Epoch   1 Batch  200/2154 - Train Accuracy: 0.6352, Validation Accuracy: 0.6314, Loss: 0.4939\n",
      "Epoch   1 Batch  300/2154 - Train Accuracy: 0.6036, Validation Accuracy: 0.6449, Loss: 0.4764\n",
      "Epoch   1 Batch  400/2154 - Train Accuracy: 0.6789, Validation Accuracy: 0.6399, Loss: 0.4137\n",
      "Epoch   1 Batch  500/2154 - Train Accuracy: 0.6801, Validation Accuracy: 0.6442, Loss: 0.4247\n",
      "Epoch   1 Batch  600/2154 - Train Accuracy: 0.6694, Validation Accuracy: 0.6626, Loss: 0.4077\n",
      "Epoch   1 Batch  700/2154 - Train Accuracy: 0.6184, Validation Accuracy: 0.6385, Loss: 0.4164\n",
      "Epoch   1 Batch  800/2154 - Train Accuracy: 0.7089, Validation Accuracy: 0.6506, Loss: 0.3737\n",
      "Epoch   1 Batch  900/2154 - Train Accuracy: 0.6546, Validation Accuracy: 0.6449, Loss: 0.4101\n",
      "Epoch   1 Batch 1000/2154 - Train Accuracy: 0.6711, Validation Accuracy: 0.6705, Loss: 0.3636\n",
      "Epoch   1 Batch 1100/2154 - Train Accuracy: 0.6125, Validation Accuracy: 0.6626, Loss: 0.3783\n",
      "Epoch   1 Batch 1200/2154 - Train Accuracy: 0.6612, Validation Accuracy: 0.6776, Loss: 0.4085\n",
      "Epoch   1 Batch 1300/2154 - Train Accuracy: 0.6828, Validation Accuracy: 0.6449, Loss: 0.3480\n",
      "Epoch   1 Batch 1400/2154 - Train Accuracy: 0.6604, Validation Accuracy: 0.6690, Loss: 0.3376\n",
      "Epoch   1 Batch 1500/2154 - Train Accuracy: 0.6760, Validation Accuracy: 0.6754, Loss: 0.3547\n",
      "Epoch   1 Batch 1600/2154 - Train Accuracy: 0.6883, Validation Accuracy: 0.6548, Loss: 0.3606\n",
      "Epoch   1 Batch 1700/2154 - Train Accuracy: 0.7164, Validation Accuracy: 0.7038, Loss: 0.3029\n",
      "Epoch   1 Batch 1800/2154 - Train Accuracy: 0.7273, Validation Accuracy: 0.7095, Loss: 0.3254\n",
      "Epoch   1 Batch 1900/2154 - Train Accuracy: 0.7633, Validation Accuracy: 0.7124, Loss: 0.2685\n",
      "Epoch   1 Batch 2000/2154 - Train Accuracy: 0.7469, Validation Accuracy: 0.7308, Loss: 0.2921\n",
      "Epoch   1 Batch 2100/2154 - Train Accuracy: 0.7992, Validation Accuracy: 0.7322, Loss: 0.2905\n",
      "Epoch   2 Batch  100/2154 - Train Accuracy: 0.6823, Validation Accuracy: 0.7173, Loss: 0.2957\n",
      "Epoch   2 Batch  200/2154 - Train Accuracy: 0.7305, Validation Accuracy: 0.7330, Loss: 0.2826\n",
      "Epoch   2 Batch  300/2154 - Train Accuracy: 0.7648, Validation Accuracy: 0.7244, Loss: 0.2667\n",
      "Epoch   2 Batch  400/2154 - Train Accuracy: 0.8055, Validation Accuracy: 0.7301, Loss: 0.2359\n",
      "Epoch   2 Batch  500/2154 - Train Accuracy: 0.7845, Validation Accuracy: 0.7074, Loss: 0.2332\n",
      "Epoch   2 Batch  600/2154 - Train Accuracy: 0.7566, Validation Accuracy: 0.7358, Loss: 0.2437\n",
      "Epoch   2 Batch  700/2154 - Train Accuracy: 0.6587, Validation Accuracy: 0.6953, Loss: 0.2694\n",
      "Epoch   2 Batch  800/2154 - Train Accuracy: 0.8059, Validation Accuracy: 0.7280, Loss: 0.2347\n",
      "Epoch   2 Batch  900/2154 - Train Accuracy: 0.7023, Validation Accuracy: 0.7088, Loss: 0.2591\n",
      "Epoch   2 Batch 1000/2154 - Train Accuracy: 0.7478, Validation Accuracy: 0.7514, Loss: 0.2199\n",
      "Epoch   2 Batch 1100/2154 - Train Accuracy: 0.7055, Validation Accuracy: 0.7415, Loss: 0.2412\n",
      "Epoch   2 Batch 1200/2154 - Train Accuracy: 0.7549, Validation Accuracy: 0.7514, Loss: 0.2535\n",
      "Epoch   2 Batch 1300/2154 - Train Accuracy: 0.7375, Validation Accuracy: 0.7713, Loss: 0.2050\n",
      "Epoch   2 Batch 1400/2154 - Train Accuracy: 0.7442, Validation Accuracy: 0.7777, Loss: 0.1943\n",
      "Epoch   2 Batch 1500/2154 - Train Accuracy: 0.7763, Validation Accuracy: 0.8040, Loss: 0.2051\n",
      "Epoch   2 Batch 1600/2154 - Train Accuracy: 0.7789, Validation Accuracy: 0.7898, Loss: 0.1965\n",
      "Epoch   2 Batch 1700/2154 - Train Accuracy: 0.8234, Validation Accuracy: 0.8118, Loss: 0.1673\n",
      "Epoch   2 Batch 1800/2154 - Train Accuracy: 0.8711, Validation Accuracy: 0.8246, Loss: 0.1824\n",
      "Epoch   2 Batch 1900/2154 - Train Accuracy: 0.8836, Validation Accuracy: 0.8125, Loss: 0.1352\n",
      "Epoch   2 Batch 2000/2154 - Train Accuracy: 0.8578, Validation Accuracy: 0.8366, Loss: 0.1392\n",
      "Epoch   2 Batch 2100/2154 - Train Accuracy: 0.8641, Validation Accuracy: 0.8700, Loss: 0.1250\n",
      "Epoch   3 Batch  100/2154 - Train Accuracy: 0.8289, Validation Accuracy: 0.8700, Loss: 0.1415\n",
      "Epoch   3 Batch  200/2154 - Train Accuracy: 0.8891, Validation Accuracy: 0.8601, Loss: 0.1079\n",
      "Epoch   3 Batch  300/2154 - Train Accuracy: 0.8561, Validation Accuracy: 0.8707, Loss: 0.1146\n",
      "Epoch   3 Batch  400/2154 - Train Accuracy: 0.9141, Validation Accuracy: 0.8807, Loss: 0.0918\n",
      "Epoch   3 Batch  500/2154 - Train Accuracy: 0.9334, Validation Accuracy: 0.8558, Loss: 0.1021\n",
      "Epoch   3 Batch  600/2154 - Train Accuracy: 0.9104, Validation Accuracy: 0.8991, Loss: 0.0834\n",
      "Epoch   3 Batch  700/2154 - Train Accuracy: 0.8964, Validation Accuracy: 0.8977, Loss: 0.0902\n",
      "Epoch   3 Batch  800/2154 - Train Accuracy: 0.8964, Validation Accuracy: 0.8928, Loss: 0.0805\n",
      "Epoch   3 Batch  900/2154 - Train Accuracy: 0.8939, Validation Accuracy: 0.8913, Loss: 0.0896\n",
      "Epoch   3 Batch 1000/2154 - Train Accuracy: 0.8824, Validation Accuracy: 0.8849, Loss: 0.0695\n",
      "Epoch   3 Batch 1100/2154 - Train Accuracy: 0.9094, Validation Accuracy: 0.9361, Loss: 0.0886\n",
      "Epoch   3 Batch 1200/2154 - Train Accuracy: 0.8742, Validation Accuracy: 0.9453, Loss: 0.1052\n",
      "Epoch   3 Batch 1300/2154 - Train Accuracy: 0.9383, Validation Accuracy: 0.9304, Loss: 0.0755\n",
      "Epoch   3 Batch 1400/2154 - Train Accuracy: 0.9235, Validation Accuracy: 0.9048, Loss: 0.0643\n",
      "Epoch   3 Batch 1500/2154 - Train Accuracy: 0.9317, Validation Accuracy: 0.9276, Loss: 0.0500\n",
      "Epoch   3 Batch 1600/2154 - Train Accuracy: 0.9102, Validation Accuracy: 0.9354, Loss: 0.0790\n",
      "Epoch   3 Batch 1700/2154 - Train Accuracy: 0.9234, Validation Accuracy: 0.9368, Loss: 0.0550\n",
      "Epoch   3 Batch 1800/2154 - Train Accuracy: 0.9352, Validation Accuracy: 0.9354, Loss: 0.0522\n",
      "Epoch   3 Batch 1900/2154 - Train Accuracy: 0.9688, Validation Accuracy: 0.9034, Loss: 0.0678\n",
      "Epoch   3 Batch 2000/2154 - Train Accuracy: 0.9398, Validation Accuracy: 0.9318, Loss: 0.0619\n",
      "Epoch   3 Batch 2100/2154 - Train Accuracy: 0.9805, Validation Accuracy: 0.9126, Loss: 0.0514\n",
      "Epoch   4 Batch  100/2154 - Train Accuracy: 0.9122, Validation Accuracy: 0.9411, Loss: 0.0734\n",
      "Epoch   4 Batch  200/2154 - Train Accuracy: 0.9688, Validation Accuracy: 0.9503, Loss: 0.0326\n",
      "Epoch   4 Batch  300/2154 - Train Accuracy: 0.9548, Validation Accuracy: 0.9553, Loss: 0.0539\n",
      "Epoch   4 Batch  400/2154 - Train Accuracy: 0.9656, Validation Accuracy: 0.9290, Loss: 0.0362\n"
     ]
    },
    {
     "name": "stdout",
     "output_type": "stream",
     "text": [
      "Epoch   4 Batch  500/2154 - Train Accuracy: 0.9852, Validation Accuracy: 0.9304, Loss: 0.0455\n",
      "Epoch   4 Batch  600/2154 - Train Accuracy: 0.9548, Validation Accuracy: 0.9425, Loss: 0.0446\n",
      "Epoch   4 Batch  700/2154 - Train Accuracy: 0.8577, Validation Accuracy: 0.9141, Loss: 0.0508\n",
      "Epoch   4 Batch  800/2154 - Train Accuracy: 0.9704, Validation Accuracy: 0.9354, Loss: 0.0305\n",
      "Epoch   4 Batch  900/2154 - Train Accuracy: 0.9622, Validation Accuracy: 0.9247, Loss: 0.0430\n",
      "Epoch   4 Batch 1000/2154 - Train Accuracy: 0.9710, Validation Accuracy: 0.9723, Loss: 0.0333\n",
      "Epoch   4 Batch 1100/2154 - Train Accuracy: 0.9156, Validation Accuracy: 0.9538, Loss: 0.0476\n",
      "Epoch   4 Batch 1200/2154 - Train Accuracy: 0.9391, Validation Accuracy: 0.9553, Loss: 0.0631\n",
      "Epoch   4 Batch 1300/2154 - Train Accuracy: 0.9586, Validation Accuracy: 0.9411, Loss: 0.0364\n",
      "Epoch   4 Batch 1400/2154 - Train Accuracy: 0.9474, Validation Accuracy: 0.9538, Loss: 0.0338\n",
      "Epoch   4 Batch 1500/2154 - Train Accuracy: 0.9688, Validation Accuracy: 0.9489, Loss: 0.0291\n",
      "Epoch   4 Batch 1600/2154 - Train Accuracy: 0.9289, Validation Accuracy: 0.9553, Loss: 0.0474\n",
      "Epoch   4 Batch 1700/2154 - Train Accuracy: 0.9266, Validation Accuracy: 0.9801, Loss: 0.0413\n",
      "Epoch   4 Batch 1800/2154 - Train Accuracy: 0.9648, Validation Accuracy: 0.9567, Loss: 0.0360\n",
      "Epoch   4 Batch 1900/2154 - Train Accuracy: 0.9703, Validation Accuracy: 0.9439, Loss: 0.0490\n",
      "Epoch   4 Batch 2000/2154 - Train Accuracy: 0.9570, Validation Accuracy: 0.9624, Loss: 0.0462\n",
      "Epoch   4 Batch 2100/2154 - Train Accuracy: 0.9914, Validation Accuracy: 0.9283, Loss: 0.0305\n",
      "Epoch   5 Batch  100/2154 - Train Accuracy: 0.9196, Validation Accuracy: 0.9595, Loss: 0.0578\n",
      "Epoch   5 Batch  200/2154 - Train Accuracy: 0.9898, Validation Accuracy: 0.9787, Loss: 0.0301\n",
      "Epoch   5 Batch  300/2154 - Train Accuracy: 0.9646, Validation Accuracy: 0.9581, Loss: 0.0350\n",
      "Epoch   5 Batch  400/2154 - Train Accuracy: 0.9547, Validation Accuracy: 0.9418, Loss: 0.0299\n",
      "Epoch   5 Batch  500/2154 - Train Accuracy: 0.9811, Validation Accuracy: 0.9609, Loss: 0.0328\n",
      "Epoch   5 Batch  600/2154 - Train Accuracy: 0.9523, Validation Accuracy: 0.9602, Loss: 0.0308\n",
      "Epoch   5 Batch  700/2154 - Train Accuracy: 0.9252, Validation Accuracy: 0.9226, Loss: 0.0294\n",
      "Epoch   5 Batch  800/2154 - Train Accuracy: 0.9885, Validation Accuracy: 0.9688, Loss: 0.0226\n",
      "Epoch   5 Batch  900/2154 - Train Accuracy: 0.9753, Validation Accuracy: 0.9474, Loss: 0.0361\n",
      "Epoch   5 Batch 1000/2154 - Train Accuracy: 0.9621, Validation Accuracy: 0.9588, Loss: 0.0337\n",
      "Epoch   5 Batch 1100/2154 - Train Accuracy: 0.9688, Validation Accuracy: 0.9304, Loss: 0.0390\n",
      "Epoch   5 Batch 1200/2154 - Train Accuracy: 0.9498, Validation Accuracy: 0.9759, Loss: 0.0479\n",
      "Epoch   5 Batch 1300/2154 - Train Accuracy: 0.9695, Validation Accuracy: 0.9695, Loss: 0.0260\n",
      "Epoch   5 Batch 1400/2154 - Train Accuracy: 0.9844, Validation Accuracy: 0.9858, Loss: 0.0229\n",
      "Epoch   5 Batch 1500/2154 - Train Accuracy: 0.9597, Validation Accuracy: 0.9844, Loss: 0.0180\n",
      "Epoch   5 Batch 1600/2154 - Train Accuracy: 0.9406, Validation Accuracy: 0.9851, Loss: 0.0386\n",
      "Epoch   5 Batch 1700/2154 - Train Accuracy: 0.9391, Validation Accuracy: 0.9759, Loss: 0.0282\n",
      "Epoch   5 Batch 1800/2154 - Train Accuracy: 0.9625, Validation Accuracy: 0.9851, Loss: 0.0307\n",
      "Epoch   5 Batch 1900/2154 - Train Accuracy: 0.9812, Validation Accuracy: 0.9595, Loss: 0.0290\n",
      "Epoch   5 Batch 2000/2154 - Train Accuracy: 0.9734, Validation Accuracy: 0.9780, Loss: 0.0368\n",
      "Epoch   5 Batch 2100/2154 - Train Accuracy: 0.9891, Validation Accuracy: 0.9645, Loss: 0.0270\n",
      "Epoch   6 Batch  100/2154 - Train Accuracy: 0.9635, Validation Accuracy: 0.9808, Loss: 0.0508\n",
      "Epoch   6 Batch  200/2154 - Train Accuracy: 0.9781, Validation Accuracy: 0.9766, Loss: 0.0137\n",
      "Epoch   6 Batch  300/2154 - Train Accuracy: 0.9786, Validation Accuracy: 0.9602, Loss: 0.0344\n",
      "Epoch   6 Batch  400/2154 - Train Accuracy: 0.9773, Validation Accuracy: 0.9773, Loss: 0.0193\n",
      "Epoch   6 Batch  500/2154 - Train Accuracy: 0.9622, Validation Accuracy: 0.9865, Loss: 0.0243\n",
      "Epoch   6 Batch  600/2154 - Train Accuracy: 0.9671, Validation Accuracy: 0.9609, Loss: 0.0278\n",
      "Epoch   6 Batch  700/2154 - Train Accuracy: 0.9836, Validation Accuracy: 0.9446, Loss: 0.0317\n",
      "Epoch   6 Batch  800/2154 - Train Accuracy: 0.9934, Validation Accuracy: 0.9688, Loss: 0.0236\n",
      "Epoch   6 Batch  900/2154 - Train Accuracy: 0.9663, Validation Accuracy: 0.9822, Loss: 0.0269\n",
      "Epoch   6 Batch 1000/2154 - Train Accuracy: 0.9650, Validation Accuracy: 0.9822, Loss: 0.0244\n",
      "Epoch   6 Batch 1100/2154 - Train Accuracy: 0.9602, Validation Accuracy: 0.9659, Loss: 0.0340\n",
      "Epoch   6 Batch 1200/2154 - Train Accuracy: 0.9490, Validation Accuracy: 0.9815, Loss: 0.0428\n",
      "Epoch   6 Batch 1300/2154 - Train Accuracy: 0.9625, Validation Accuracy: 0.9482, Loss: 0.0246\n",
      "Epoch   6 Batch 1400/2154 - Train Accuracy: 0.9827, Validation Accuracy: 0.9652, Loss: 0.0210\n",
      "Epoch   6 Batch 1500/2154 - Train Accuracy: 0.9827, Validation Accuracy: 0.9837, Loss: 0.0119\n",
      "Epoch   6 Batch 1600/2154 - Train Accuracy: 0.9609, Validation Accuracy: 0.9666, Loss: 0.0275\n",
      "Epoch   6 Batch 1700/2154 - Train Accuracy: 0.9445, Validation Accuracy: 0.9936, Loss: 0.0339\n",
      "Epoch   6 Batch 1800/2154 - Train Accuracy: 0.9789, Validation Accuracy: 0.9723, Loss: 0.0297\n",
      "Epoch   6 Batch 1900/2154 - Train Accuracy: 0.9828, Validation Accuracy: 0.9730, Loss: 0.0198\n",
      "Epoch   6 Batch 2000/2154 - Train Accuracy: 0.9742, Validation Accuracy: 0.9567, Loss: 0.0294\n",
      "Epoch   6 Batch 2100/2154 - Train Accuracy: 0.9961, Validation Accuracy: 0.9659, Loss: 0.0150\n",
      "Epoch   7 Batch  100/2154 - Train Accuracy: 0.9643, Validation Accuracy: 0.9751, Loss: 0.0545\n",
      "Epoch   7 Batch  200/2154 - Train Accuracy: 0.9836, Validation Accuracy: 0.9773, Loss: 0.0167\n",
      "Epoch   7 Batch  300/2154 - Train Accuracy: 0.9934, Validation Accuracy: 0.9837, Loss: 0.0242\n",
      "Epoch   7 Batch  400/2154 - Train Accuracy: 0.9781, Validation Accuracy: 0.9709, Loss: 0.0202\n",
      "Epoch   7 Batch  500/2154 - Train Accuracy: 0.9868, Validation Accuracy: 0.9773, Loss: 0.0228\n",
      "Epoch   7 Batch  600/2154 - Train Accuracy: 0.9622, Validation Accuracy: 0.9588, Loss: 0.0184\n",
      "Epoch   7 Batch  700/2154 - Train Accuracy: 0.9646, Validation Accuracy: 0.9432, Loss: 0.0332\n",
      "Epoch   7 Batch  800/2154 - Train Accuracy: 0.9951, Validation Accuracy: 0.9503, Loss: 0.0259\n",
      "Epoch   7 Batch  900/2154 - Train Accuracy: 0.9811, Validation Accuracy: 0.9531, Loss: 0.0207\n",
      "Epoch   7 Batch 1000/2154 - Train Accuracy: 0.9650, Validation Accuracy: 0.9886, Loss: 0.0211\n",
      "Epoch   7 Batch 1100/2154 - Train Accuracy: 0.9750, Validation Accuracy: 0.9723, Loss: 0.0216\n",
      "Epoch   7 Batch 1200/2154 - Train Accuracy: 0.9589, Validation Accuracy: 0.9780, Loss: 0.0408\n",
      "Epoch   7 Batch 1300/2154 - Train Accuracy: 0.9984, Validation Accuracy: 0.9929, Loss: 0.0211\n",
      "Epoch   7 Batch 1400/2154 - Train Accuracy: 0.9827, Validation Accuracy: 0.9751, Loss: 0.0121\n",
      "Epoch   7 Batch 1500/2154 - Train Accuracy: 0.9671, Validation Accuracy: 0.9723, Loss: 0.0208\n",
      "Epoch   7 Batch 1600/2154 - Train Accuracy: 0.9711, Validation Accuracy: 0.9801, Loss: 0.0215\n",
      "Epoch   7 Batch 1700/2154 - Train Accuracy: 0.9680, Validation Accuracy: 0.9716, Loss: 0.0250\n",
      "Epoch   7 Batch 1800/2154 - Train Accuracy: 0.9633, Validation Accuracy: 0.9851, Loss: 0.0250\n",
      "Epoch   7 Batch 1900/2154 - Train Accuracy: 0.9688, Validation Accuracy: 0.9780, Loss: 0.0272\n",
      "Epoch   7 Batch 2000/2154 - Train Accuracy: 0.9758, Validation Accuracy: 0.9723, Loss: 0.0356\n",
      "Epoch   7 Batch 2100/2154 - Train Accuracy: 0.9930, Validation Accuracy: 0.9652, Loss: 0.0169\n",
      "Model Trained and Saved\n"
     ]
    }
   ],
   "source": [
    "\"\"\"\n",
    "DON'T MODIFY ANYTHING IN THIS CELL\n",
    "\"\"\"\n",
    "def get_accuracy(target, logits):\n",
    "    \"\"\"\n",
    "    Calculate accuracy\n",
    "    \"\"\"\n",
    "    max_seq = max(target.shape[1], logits.shape[1])\n",
    "    if max_seq - target.shape[1]:\n",
    "        target = np.pad(\n",
    "            target,\n",
    "            [(0,0),(0,max_seq - target.shape[1])],\n",
    "            'constant')\n",
    "    if max_seq - logits.shape[1]:\n",
    "        logits = np.pad(\n",
    "            logits,\n",
    "            [(0,0),(0,max_seq - logits.shape[1])],\n",
    "            'constant')\n",
    "\n",
    "    return np.mean(np.equal(target, logits))\n",
    "\n",
    "# Split data to training and validation sets\n",
    "train_source = source_int_text[batch_size:]\n",
    "train_target = target_int_text[batch_size:]\n",
    "valid_source = source_int_text[:batch_size]\n",
    "valid_target = target_int_text[:batch_size]\n",
    "(valid_sources_batch, valid_targets_batch, valid_sources_lengths, valid_targets_lengths ) = next(get_batches(valid_source,\n",
    "                                                                                                             valid_target,\n",
    "                                                                                                             batch_size,\n",
    "                                                                                                             source_vocab_to_int['<PAD>'],\n",
    "                                                                                                             target_vocab_to_int['<PAD>']))                                                                                                  \n",
    "with tf.Session(graph=train_graph) as sess:\n",
    "    sess.run(tf.global_variables_initializer())\n",
    "\n",
    "    for epoch_i in range(epochs):\n",
    "        for batch_i, (source_batch, target_batch, sources_lengths, targets_lengths) in enumerate(\n",
    "                get_batches(train_source, train_target, batch_size,\n",
    "                            source_vocab_to_int['<PAD>'],\n",
    "                            target_vocab_to_int['<PAD>'])):\n",
    "\n",
    "            _, loss = sess.run(\n",
    "                [train_op, cost],\n",
    "                {input_data: source_batch,\n",
    "                 targets: target_batch,\n",
    "                 lr: learning_rate,\n",
    "                 target_sequence_length: targets_lengths,\n",
    "                 source_sequence_length: sources_lengths,\n",
    "                 keep_prob: keep_probability})\n",
    "\n",
    "\n",
    "            if batch_i % display_step == 0 and batch_i > 0:\n",
    "\n",
    "\n",
    "                batch_train_logits = sess.run(\n",
    "                    inference_logits,\n",
    "                    {input_data: source_batch,\n",
    "                     source_sequence_length: sources_lengths,\n",
    "                     target_sequence_length: targets_lengths,\n",
    "                     keep_prob: 1.0})\n",
    "\n",
    "\n",
    "                batch_valid_logits = sess.run(\n",
    "                    inference_logits,\n",
    "                    {input_data: valid_sources_batch,\n",
    "                     source_sequence_length: valid_sources_lengths,\n",
    "                     target_sequence_length: valid_targets_lengths,\n",
    "                     keep_prob: 1.0})\n",
    "\n",
    "                train_acc = get_accuracy(target_batch, batch_train_logits)\n",
    "\n",
    "                valid_acc = get_accuracy(valid_targets_batch, batch_valid_logits)\n",
    "\n",
    "                print('Epoch {:>3} Batch {:>4}/{} - Train Accuracy: {:>6.4f}, Validation Accuracy: {:>6.4f}, Loss: {:>6.4f}'\n",
    "                      .format(epoch_i, batch_i, len(source_int_text) // batch_size, train_acc, valid_acc, loss))\n",
    "\n",
    "    # Save Model\n",
    "    saver = tf.train.Saver()\n",
    "    saver.save(sess, save_path)\n",
    "    print('Model Trained and Saved')"
   ]
  },
  {
   "cell_type": "markdown",
   "metadata": {},
   "source": [
    "### Save Parameters\n",
    "Save the `batch_size` and `save_path` parameters for inference."
   ]
  },
  {
   "cell_type": "code",
   "execution_count": 25,
   "metadata": {
    "collapsed": true
   },
   "outputs": [],
   "source": [
    "\"\"\"\n",
    "DON'T MODIFY ANYTHING IN THIS CELL\n",
    "\"\"\"\n",
    "# Save parameters for checkpoint\n",
    "helper.save_params(save_path)"
   ]
  },
  {
   "cell_type": "markdown",
   "metadata": {},
   "source": [
    "# Checkpoint"
   ]
  },
  {
   "cell_type": "code",
   "execution_count": 26,
   "metadata": {
    "collapsed": true
   },
   "outputs": [],
   "source": [
    "\"\"\"\n",
    "DON'T MODIFY ANYTHING IN THIS CELL\n",
    "\"\"\"\n",
    "import tensorflow as tf\n",
    "import numpy as np\n",
    "import helper\n",
    "import problem_unittests as tests\n",
    "\n",
    "_, (source_vocab_to_int, target_vocab_to_int), (source_int_to_vocab, target_int_to_vocab) = helper.load_preprocess()\n",
    "load_path = helper.load_params()"
   ]
  },
  {
   "cell_type": "markdown",
   "metadata": {},
   "source": [
    "## Sentence to Sequence\n",
    "To feed a sentence into the model for translation, you first need to preprocess it.  Implement the function `sentence_to_seq()` to preprocess new sentences.\n",
    "\n",
    "- Convert the sentence to lowercase\n",
    "- Convert words into ids using `vocab_to_int`\n",
    " - Convert words not in the vocabulary, to the `<UNK>` word id."
   ]
  },
  {
   "cell_type": "code",
   "execution_count": 29,
   "metadata": {},
   "outputs": [
    {
     "name": "stdout",
     "output_type": "stream",
     "text": [
      "Tests Passed\n"
     ]
    }
   ],
   "source": [
    "def sentence_to_seq(sentence, vocab_to_int):\n",
    "    \"\"\"\n",
    "    Convert a sentence to a sequence of ids\n",
    "    :param sentence: String\n",
    "    :param vocab_to_int: Dictionary to go from the words to an id\n",
    "    :return: List of word ids\n",
    "    \"\"\"\n",
    "    # TODO: Implement Function\n",
    "    lower_case_word_list = sentence.lower().split()\n",
    "    id_unk = vocab_to_int['<UNK>']\n",
    "    sentence_ids = []\n",
    "    for word in lower_case_word_list:\n",
    "        try:\n",
    "            id = vocab_to_int[word]\n",
    "        except KeyError:\n",
    "            id = id_unk\n",
    "        sentence_ids.append(id)\n",
    "    return sentence_ids\n",
    "\n",
    "\n",
    "\"\"\"\n",
    "DON'T MODIFY ANYTHING IN THIS CELL THAT IS BELOW THIS LINE\n",
    "\"\"\"\n",
    "tests.test_sentence_to_seq(sentence_to_seq)"
   ]
  },
  {
   "cell_type": "markdown",
   "metadata": {},
   "source": [
    "## Translate\n",
    "This will translate `translate_sentence` from English to French."
   ]
  },
  {
   "cell_type": "code",
   "execution_count": 30,
   "metadata": {},
   "outputs": [
    {
     "name": "stdout",
     "output_type": "stream",
     "text": [
      "INFO:tensorflow:Restoring parameters from checkpoints/dev\n",
      "Input\n",
      "  Word Ids:      [171, 105, 196, 194, 131, 34, 38]\n",
      "  English Words: ['he', 'saw', 'a', 'old', 'yellow', 'truck', '.']\n",
      "\n",
      "Prediction\n",
      "  Word Ids:      [130, 85, 51, 308, 325, 48, 19, 1]\n",
      "  French Words: il a vu un camion jaune . <EOS>\n"
     ]
    }
   ],
   "source": [
    "translate_sentence = 'he saw a old yellow truck .'\n",
    "\n",
    "\n",
    "\"\"\"\n",
    "DON'T MODIFY ANYTHING IN THIS CELL\n",
    "\"\"\"\n",
    "translate_sentence = sentence_to_seq(translate_sentence, source_vocab_to_int)\n",
    "\n",
    "loaded_graph = tf.Graph()\n",
    "with tf.Session(graph=loaded_graph) as sess:\n",
    "    # Load saved model\n",
    "    loader = tf.train.import_meta_graph(load_path + '.meta')\n",
    "    loader.restore(sess, load_path)\n",
    "\n",
    "    input_data = loaded_graph.get_tensor_by_name('input:0')\n",
    "    logits = loaded_graph.get_tensor_by_name('predictions:0')\n",
    "    target_sequence_length = loaded_graph.get_tensor_by_name('target_sequence_length:0')\n",
    "    source_sequence_length = loaded_graph.get_tensor_by_name('source_sequence_length:0')\n",
    "    keep_prob = loaded_graph.get_tensor_by_name('keep_prob:0')\n",
    "\n",
    "    translate_logits = sess.run(logits, {input_data: [translate_sentence]*batch_size,\n",
    "                                         target_sequence_length: [len(translate_sentence)*2]*batch_size,\n",
    "                                         source_sequence_length: [len(translate_sentence)]*batch_size,\n",
    "                                         keep_prob: 1.0})[0]\n",
    "\n",
    "print('Input')\n",
    "print('  Word Ids:      {}'.format([i for i in translate_sentence]))\n",
    "print('  English Words: {}'.format([source_int_to_vocab[i] for i in translate_sentence]))\n",
    "\n",
    "print('\\nPrediction')\n",
    "print('  Word Ids:      {}'.format([i for i in translate_logits]))\n",
    "print('  French Words: {}'.format(\" \".join([target_int_to_vocab[i] for i in translate_logits])))\n"
   ]
  },
  {
   "cell_type": "markdown",
   "metadata": {},
   "source": [
    "## Imperfect Translation\n",
    "You might notice that some sentences translate better than others.  Since the dataset you're using only has a vocabulary of 227 English words of the thousands that you use, you're only going to see good results using these words.  For this project, you don't need a perfect translation. However, if you want to create a better translation model, you'll need better data.\n",
    "\n",
    "You can train on the [WMT10 French-English corpus](http://www.statmt.org/wmt10/training-giga-fren.tar).  This dataset has more vocabulary and richer in topics discussed.  However, this will take you days to train, so make sure you've a GPU and the neural network is performing well on dataset we provided.  Just make sure you play with the WMT10 corpus after you've submitted this project.\n",
    "## Submitting This Project\n",
    "When submitting this project, make sure to run all the cells before saving the notebook. Save the notebook file as \"dlnd_language_translation.ipynb\" and save it as a HTML file under \"File\" -> \"Download as\". Include the \"helper.py\" and \"problem_unittests.py\" files in your submission."
   ]
  }
 ],
 "metadata": {
  "anaconda-cloud": {},
  "kernelspec": {
   "display_name": "Python 3",
   "language": "python",
   "name": "python3"
  },
  "language_info": {
   "codemirror_mode": {
    "name": "ipython",
    "version": 3
   },
   "file_extension": ".py",
   "mimetype": "text/x-python",
   "name": "python",
   "nbconvert_exporter": "python",
   "pygments_lexer": "ipython3",
   "version": "3.5.3"
  }
 },
 "nbformat": 4,
 "nbformat_minor": 1
}
