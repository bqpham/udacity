{
 "cells": [
  {
   "cell_type": "markdown",
   "metadata": {},
   "source": [
    "# Traffic Sign Classification with Keras\n",
    "\n",
    "Keras exists to make coding deep neural networks simpler. To demonstrate just how easy it is, you’re going to use Keras to build a convolutional neural network in a few dozen lines of code.\n",
    "\n",
    "You’ll be connecting the concepts from the previous lessons to the methods that Keras provides."
   ]
  },
  {
   "cell_type": "markdown",
   "metadata": {},
   "source": [
    "## Dataset\n",
    "\n",
    "The network you'll build with Keras is similar to the example in Keras’s GitHub repository that builds out a [convolutional neural network for MNIST](https://github.com/fchollet/keras/blob/master/examples/mnist_cnn.py). \n",
    "\n",
    "However, instead of using the [MNIST](http://yann.lecun.com/exdb/mnist/) dataset, you're going to use the [German Traffic Sign Recognition Benchmark](http://benchmark.ini.rub.de/?section=gtsrb&subsection=news) dataset that you've used previously.\n",
    "\n",
    "You can download pickle files with sanitized traffic sign data here:"
   ]
  },
  {
   "cell_type": "code",
   "execution_count": 1,
   "metadata": {
    "collapsed": false
   },
   "outputs": [
    {
     "name": "stdout",
     "output_type": "stream",
     "text": [
      "Training and Test data downloaded.\n"
     ]
    }
   ],
   "source": [
    "from urllib.request import urlretrieve\n",
    "from os.path import isfile\n",
    "from tqdm import tqdm\n",
    "\n",
    "class DLProgress(tqdm):\n",
    "    last_block = 0\n",
    "\n",
    "    def hook(self, block_num=1, block_size=1, total_size=None):\n",
    "        self.total = total_size\n",
    "        self.update((block_num - self.last_block) * block_size)\n",
    "        self.last_block = block_num\n",
    "\n",
    "if not isfile('train.p'):\n",
    "    with DLProgress(unit='B', unit_scale=True, miniters=1, desc='Train Dataset') as pbar:\n",
    "        urlretrieve(\n",
    "            'https://s3.amazonaws.com/udacity-sdc/datasets/german_traffic_sign_benchmark/train.p',\n",
    "            'train.p',\n",
    "            pbar.hook)\n",
    "\n",
    "if not isfile('test.p'):\n",
    "    with DLProgress(unit='B', unit_scale=True, miniters=1, desc='Test Dataset') as pbar:\n",
    "        urlretrieve(\n",
    "            'https://s3.amazonaws.com/udacity-sdc/datasets/german_traffic_sign_benchmark/test.p',\n",
    "            'test.p',\n",
    "            pbar.hook)\n",
    "\n",
    "print('Training and Test data downloaded.')"
   ]
  },
  {
   "cell_type": "markdown",
   "metadata": {},
   "source": [
    "## Overview\n",
    "\n",
    "Here are the steps you'll take to build the network:\n",
    "\n",
    "1. Load the training data.\n",
    "2. Preprocess the data.\n",
    "3. Build a feedforward neural network to classify traffic signs.\n",
    "4. Build a convolutional neural network to classify traffic signs.\n",
    "5. Evaluate the final neural network on testing data.\n",
    "\n",
    "Keep an eye on the network’s accuracy over time. Once the accuracy reaches the 98% range, you can be confident that you’ve built and trained an effective model."
   ]
  },
  {
   "cell_type": "code",
   "execution_count": 2,
   "metadata": {
    "collapsed": false
   },
   "outputs": [
    {
     "name": "stdout",
     "output_type": "stream",
     "text": [
      "Modules loaded.\n"
     ]
    }
   ],
   "source": [
    "import pickle\n",
    "import numpy as np\n",
    "import math\n",
    "\n",
    "# Fix error with TF and Keras\n",
    "import tensorflow as tf\n",
    "tf.python.control_flow_ops = tf\n",
    "\n",
    "print('Modules loaded.')"
   ]
  },
  {
   "cell_type": "markdown",
   "metadata": {},
   "source": [
    "## Load the Data\n",
    "\n",
    "Start by importing the data from the pickle file."
   ]
  },
  {
   "cell_type": "code",
   "execution_count": 3,
   "metadata": {
    "collapsed": false
   },
   "outputs": [],
   "source": [
    "with open('train.p', 'rb') as f:\n",
    "    data = pickle.load(f)\n",
    "\n",
    "# Load the feature data to the variable X_train\n",
    "X_train = data['features']\n",
    "\n",
    "# Load the label data to the variable y_train\n",
    "y_train = data['labels']\n"
   ]
  },
  {
   "cell_type": "code",
   "execution_count": 4,
   "metadata": {
    "collapsed": false
   },
   "outputs": [
    {
     "name": "stdout",
     "output_type": "stream",
     "text": [
      "Tests passed.\n"
     ]
    }
   ],
   "source": [
    "# STOP: Do not change the tests below. Your implementation should pass these tests. \n",
    "assert np.array_equal(X_train, data['features']), 'X_train not set to data[\\'features\\'].'\n",
    "assert np.array_equal(y_train, data['labels']), 'y_train not set to data[\\'labels\\'].'\n",
    "print('Tests passed.')"
   ]
  },
  {
   "cell_type": "markdown",
   "metadata": {},
   "source": [
    "## Preprocess the Data\n",
    "\n",
    "1. Shuffle the data\n",
    "2. Normalize the features using Min-Max scaling between -0.5 and 0.5\n",
    "3. One-Hot Encode the labels\n",
    "\n",
    "### Shuffle the data\n",
    "Hint: You can use the [scikit-learn shuffle](http://scikit-learn.org/stable/modules/generated/sklearn.utils.shuffle.html) function to shuffle the data."
   ]
  },
  {
   "cell_type": "code",
   "execution_count": 5,
   "metadata": {
    "collapsed": false
   },
   "outputs": [],
   "source": [
    "from sklearn.utils import shuffle\n",
    "\n",
    "# Shuffle the data.\n",
    "X_train, y_train = shuffle(X_train, y_train)"
   ]
  },
  {
   "cell_type": "code",
   "execution_count": 6,
   "metadata": {
    "collapsed": false
   },
   "outputs": [
    {
     "name": "stdout",
     "output_type": "stream",
     "text": [
      "Tests passed.\n"
     ]
    }
   ],
   "source": [
    "# STOP: Do not change the tests below. Your implementation should pass these tests. \n",
    "assert X_train.shape == data['features'].shape, 'X_train has changed shape. The shape shouldn\\'t change when shuffling.'\n",
    "assert y_train.shape == data['labels'].shape, 'y_train has changed shape. The shape shouldn\\'t change when shuffling.'\n",
    "assert not np.array_equal(X_train, data['features']), 'X_train not shuffled.'\n",
    "assert not np.array_equal(y_train, data['labels']), 'y_train not shuffled.'\n",
    "print('Tests passed.')"
   ]
  },
  {
   "cell_type": "markdown",
   "metadata": {},
   "source": [
    "### Normalize the features\n",
    "Hint: You solved this in [TensorFlow lab](https://github.com/udacity/CarND-TensorFlow-Lab/blob/master/lab.ipynb) Problem 1."
   ]
  },
  {
   "cell_type": "code",
   "execution_count": 8,
   "metadata": {
    "collapsed": false
   },
   "outputs": [],
   "source": [
    "# TODO: Normalize the data features to the variable X_normalized\n",
    "def normalize(X):\n",
    "    X_range = X.max(axis=(0,1,2)) - X.min(axis=(0,1,2))\n",
    "    X_norm = np.subtract(X, X.min(axis=(0,1,2)))\n",
    "    X_norm = np.divide(np.subtract(X_norm, X_range / 2.0), X_range)\n",
    "    return X_norm\n",
    "\n",
    "X_normalized = normalize(X_train)"
   ]
  },
  {
   "cell_type": "code",
   "execution_count": 9,
   "metadata": {
    "collapsed": false
   },
   "outputs": [
    {
     "name": "stdout",
     "output_type": "stream",
     "text": [
      "Tests passed.\n"
     ]
    }
   ],
   "source": [
    "# STOP: Do not change the tests below. Your implementation should pass these tests. \n",
    "assert math.isclose(np.min(X_normalized), -0.5, abs_tol=1e-5) and math.isclose(np.max(X_normalized), 0.5, abs_tol=1e-5), 'The range of the training data is: {} to {}.  It must be -0.5 to 0.5'.format(np.min(X_normalized), np.max(X_normalized))\n",
    "print('Tests passed.')"
   ]
  },
  {
   "cell_type": "markdown",
   "metadata": {},
   "source": [
    "### One-Hot Encode the labels\n",
    "Hint: You can use the [scikit-learn LabelBinarizer](http://scikit-learn.org/stable/modules/generated/sklearn.preprocessing.LabelBinarizer.html) function to one-hot encode the labels."
   ]
  },
  {
   "cell_type": "code",
   "execution_count": 25,
   "metadata": {
    "collapsed": false
   },
   "outputs": [],
   "source": [
    "# One Hot encode the labels to the variable y_one_hot\n",
    "label_placeholder = tf.placeholder(tf.int32, (None))\n",
    "one_hot = tf.one_hot(label_placeholder, 43)\n",
    "with tf.Session() as sess:\n",
    "    sess.run(tf.global_variables_initializer())\n",
    "    y_one_hot = sess.run(one_hot, feed_dict={label_placeholder: y_train})"
   ]
  },
  {
   "cell_type": "code",
   "execution_count": 26,
   "metadata": {
    "collapsed": false
   },
   "outputs": [
    {
     "name": "stdout",
     "output_type": "stream",
     "text": [
      "Tests passed.\n"
     ]
    }
   ],
   "source": [
    "# STOP: Do not change the tests below. Your implementation should pass these tests. \n",
    "import collections\n",
    "\n",
    "assert y_one_hot.shape == (39209, 43), 'y_one_hot is not the correct shape.  It\\'s {}, it should be (39209, 43)'.format(y_one_hot.shape)\n",
    "assert next((False for y in y_one_hot if collections.Counter(y) != {0: 42, 1: 1}), True), 'y_one_hot not one-hot encoded.'\n",
    "print('Tests passed.')"
   ]
  },
  {
   "cell_type": "markdown",
   "metadata": {},
   "source": [
    "## Keras Sequential Model\n",
    "```python\n",
    "from keras.models import Sequential\n",
    "\n",
    "# Create the Sequential model\n",
    "model = Sequential()\n",
    "```\n",
    "The `keras.models.Sequential` class is a wrapper for the neural network model. Just like many of the class models in scikit-learn, it provides common functions like `fit()`, `evaluate()`, and `compile()`.  We'll cover these functions as we get to them.  Let's start looking at the layers of the model.\n",
    "\n",
    "## Keras Layer\n",
    "A Keras layer is just like a neural network layer.  It can be fully connected, max pool, activation, etc.  You can add a layer to the model using the model's `add()` function.  For example, a simple model would look like this:\n",
    "```python\n",
    "from keras.models import Sequential\n",
    "from keras.layers.core import Dense, Activation, Flatten\n",
    "\n",
    "# Create the Sequential model\n",
    "model = Sequential()\n",
    "\n",
    "# 1st Layer - Add a flatten layer\n",
    "model.add(Flatten(input_shape=(32, 32, 3)))\n",
    "\n",
    "# 2nd Layer - Add a fully connected layer\n",
    "model.add(Dense(100))\n",
    "\n",
    "# 3rd Layer - Add a ReLU activation layer\n",
    "model.add(Activation('relu'))\n",
    "\n",
    "# 4th Layer - Add a fully connected layer\n",
    "model.add(Dense(60))\n",
    "\n",
    "# 5th Layer - Add a ReLU activation layer\n",
    "model.add(Activation('relu'))\n",
    "```\n",
    "Keras will automatically infer the shape of all layers after the first layer.  This means you only have to set the input dimensions for the first layer.\n",
    "\n",
    "The first layer from above, `model.add(Flatten(input_shape=(32, 32, 3)))`, sets the input dimension to (32, 32, 3) and output dimension to (3072=32\\*32\\*3).  The second layer takes in the output of the first layer and sets the output dimenions to (100).  This chain of passing output to the next layer continues until the last layer, which is the output of the model."
   ]
  },
  {
   "cell_type": "markdown",
   "metadata": {},
   "source": [
    "## Build a Multi-Layer Feedforward Network\n",
    "\n",
    "Build a multi-layer feedforward neural network to classify the traffic sign images.\n",
    "\n",
    "1. Set the first layer to a `Flatten` layer with the `input_shape` set to (32, 32, 3)\n",
    "2. Set the second layer to `Dense` layer width to 128 output. \n",
    "3. Use a ReLU activation function after the second layer.\n",
    "4. Set the output layer width to 43, since there are 43 classes in the dataset.\n",
    "5. Use a softmax activation function after the output layer.\n",
    "\n",
    "To get started, review the Keras documentation about [models](https://keras.io/models/sequential/) and [layers](https://keras.io/layers/core/).\n",
    "\n",
    "The Keras example of a [Multi-Layer Perceptron](https://github.com/fchollet/keras/blob/master/examples/mnist_mlp.py) network is similar to what you need to do here. Use that as a guide, but keep in mind that there are a number of differences."
   ]
  },
  {
   "cell_type": "code",
   "execution_count": 27,
   "metadata": {
    "collapsed": false
   },
   "outputs": [],
   "source": [
    "from keras.models import Sequential\n",
    "from keras.layers.core import Dense, Activation, Flatten\n",
    "\n",
    "# Create the Sequential model\n",
    "model = Sequential()\n",
    "\n",
    "# Add a flatten layer\n",
    "model.add(Flatten(input_shape=(32, 32, 3)))\n",
    "\n",
    "# Add a fully connected layer\n",
    "model.add(Dense(128))\n",
    "\n",
    "# Add a ReLU activation layer\n",
    "model.add(Activation('relu'))\n",
    "\n",
    "# Add a fully connected layer\n",
    "model.add(Dense(43))\n",
    "\n",
    "# Add a softmax activation layer\n",
    "model.add(Activation('softmax'))"
   ]
  },
  {
   "cell_type": "code",
   "execution_count": 28,
   "metadata": {
    "collapsed": false
   },
   "outputs": [
    {
     "name": "stdout",
     "output_type": "stream",
     "text": [
      "Tests passed.\n"
     ]
    }
   ],
   "source": [
    "# STOP: Do not change the tests below. Your implementation should pass these tests.\n",
    "from keras.layers.core import Dense, Activation, Flatten\n",
    "from keras.activations import relu, softmax\n",
    "\n",
    "def check_layers(layers, true_layers):\n",
    "    assert len(true_layers) != 0, 'No layers found'\n",
    "    for layer_i in range(len(layers)):\n",
    "        assert isinstance(true_layers[layer_i], layers[layer_i]), 'Layer {} is not a {} layer'.format(layer_i+1, layers[layer_i].__name__)\n",
    "    assert len(true_layers) == len(layers), '{} layers found, should be {} layers'.format(len(true_layers), len(layers))\n",
    "\n",
    "check_layers([Flatten, Dense, Activation, Dense, Activation], model.layers)\n",
    "\n",
    "assert model.layers[0].input_shape == (None, 32, 32, 3), 'First layer input shape is wrong, it should be (32, 32, 3)'\n",
    "assert model.layers[1].output_shape == (None, 128), 'Second layer output is wrong, it should be (128)'\n",
    "assert model.layers[2].activation == relu, 'Third layer not a relu activation layer'\n",
    "assert model.layers[3].output_shape == (None, 43), 'Fourth layer output is wrong, it should be (43)'\n",
    "assert model.layers[4].activation == softmax, 'Fifth layer not a softmax activation layer'\n",
    "print('Tests passed.')"
   ]
  },
  {
   "cell_type": "markdown",
   "metadata": {},
   "source": [
    "## Training a Sequential Model\n",
    "You built a multi-layer neural network in Keras, now let's look at training a neural network.\n",
    "```python\n",
    "from keras.models import Sequential\n",
    "from keras.layers.core import Dense, Activation\n",
    "\n",
    "model = Sequential()\n",
    "...\n",
    "\n",
    "# Configures the learning process and metrics\n",
    "model.compile('sgd', 'mean_squared_error', ['accuracy'])\n",
    "\n",
    "# Train the model\n",
    "# History is a record of training loss and metrics\n",
    "history = model.fit(x_train_data, Y_train_data, batch_size=128, nb_epoch=2, validation_split=0.2)\n",
    "\n",
    "# Calculate test score\n",
    "test_score = model.evaluate(x_test_data, Y_test_data)\n",
    "```\n",
    "The code above configures, trains, and tests the model.  The line `model.compile('sgd', 'mean_squared_error', ['accuracy'])` configures the model's optimizer to `'sgd'`(stochastic gradient descent), the loss to `'mean_squared_error'`, and the metric to `'accuracy'`.  \n",
    "\n",
    "You can find more optimizers [here](https://keras.io/optimizers/), loss functions [here](https://keras.io/objectives/#available-objectives), and more metrics [here](https://keras.io/metrics/#available-metrics).\n",
    "\n",
    "To train the model, use the `fit()` function as shown in `model.fit(x_train_data, Y_train_data, batch_size=128, nb_epoch=2, validation_split=0.2)`.  The `validation_split` parameter will split a percentage of the training dataset to be used to validate the model.  The model can be further tested with the test dataset using the `evaluation()` function as shown in the last line."
   ]
  },
  {
   "cell_type": "markdown",
   "metadata": {},
   "source": [
    "## Train the Network\n",
    "\n",
    "1. Compile the network using adam optimizer and categorical_crossentropy loss function.\n",
    "2. Train the network for ten epochs and validate with 20% of the training data."
   ]
  },
  {
   "cell_type": "code",
   "execution_count": 32,
   "metadata": {
    "collapsed": false
   },
   "outputs": [
    {
     "name": "stdout",
     "output_type": "stream",
     "text": [
      "Train on 31367 samples, validate on 7842 samples\n",
      "Epoch 1/10\n",
      "31367/31367 [==============================] - 2s - loss: 0.1528 - acc: 0.9596 - val_loss: 0.2770 - val_acc: 0.9222\n",
      "Epoch 2/10\n",
      "31367/31367 [==============================] - 1s - loss: 0.1546 - acc: 0.9572 - val_loss: 0.2856 - val_acc: 0.9162\n",
      "Epoch 3/10\n",
      "31367/31367 [==============================] - 1s - loss: 0.1451 - acc: 0.9601 - val_loss: 0.2366 - val_acc: 0.9291\n",
      "Epoch 4/10\n",
      "31367/31367 [==============================] - 1s - loss: 0.1367 - acc: 0.9628 - val_loss: 0.1817 - val_acc: 0.9489\n",
      "Epoch 5/10\n",
      "31367/31367 [==============================] - 1s - loss: 0.1211 - acc: 0.9664 - val_loss: 0.3310 - val_acc: 0.9135\n",
      "Epoch 6/10\n",
      "31367/31367 [==============================] - 1s - loss: 0.1820 - acc: 0.9495 - val_loss: 0.2303 - val_acc: 0.9387\n",
      "Epoch 7/10\n",
      "31367/31367 [==============================] - 1s - loss: 0.1395 - acc: 0.9609 - val_loss: 0.1934 - val_acc: 0.9475\n",
      "Epoch 8/10\n",
      "31367/31367 [==============================] - 1s - loss: 0.1330 - acc: 0.9618 - val_loss: 0.2280 - val_acc: 0.9370\n",
      "Epoch 9/10\n",
      "31367/31367 [==============================] - 1s - loss: 0.1286 - acc: 0.9638 - val_loss: 0.2246 - val_acc: 0.9378\n",
      "Epoch 10/10\n",
      "31367/31367 [==============================] - 1s - loss: 0.1108 - acc: 0.9693 - val_loss: 0.2010 - val_acc: 0.9425\n",
      "39209/39209 [==============================] - 2s     \n"
     ]
    }
   ],
   "source": [
    "# Compile and train the model here.\n",
    "# Configures the learning process and metrics\n",
    "model.compile('adam', 'categorical_crossentropy', ['accuracy'])\n",
    "# Train the model\n",
    "# History is a record of training loss and metrics\n",
    "history = model.fit(X_normalized, y_one_hot, batch_size=128, nb_epoch=10, validation_split=0.2, verbose=True)\n",
    "\n",
    "# Calculate test score\n",
    "test_score = model.evaluate(X_normalized, y_one_hot)"
   ]
  },
  {
   "cell_type": "code",
   "execution_count": 33,
   "metadata": {
    "collapsed": false
   },
   "outputs": [
    {
     "name": "stdout",
     "output_type": "stream",
     "text": [
      "Tests passed.\n"
     ]
    }
   ],
   "source": [
    "# STOP: Do not change the tests below. Your implementation should pass these tests.\n",
    "from keras.optimizers import Adam\n",
    "\n",
    "assert model.loss == 'categorical_crossentropy', 'Not using categorical_crossentropy loss function'\n",
    "assert isinstance(model.optimizer, Adam), 'Not using adam optimizer'\n",
    "assert len(history.history['acc']) == 10, 'You\\'re using {} epochs when you need to use 10 epochs.'.format(len(history.history['acc']))\n",
    "\n",
    "assert history.history['acc'][-1] > 0.92, 'The training accuracy was: %.3f. It shoud be greater than 0.92' % history.history['acc'][-1]\n",
    "assert history.history['val_acc'][-1] > 0.85, 'The validation accuracy is: %.3f. It shoud be greater than 0.85' % history.history['val_acc'][-1]\n",
    "print('Tests passed.')"
   ]
  },
  {
   "cell_type": "markdown",
   "metadata": {},
   "source": [
    "## Convolutions\n",
    "1. Re-construct the previous network\n",
    "2. Add a [convolutional layer](https://keras.io/layers/convolutional/#convolution2d) with 32 filters, a 3x3 kernel, and valid padding before the flatten layer.\n",
    "3. Add a ReLU activation after the convolutional layer.\n",
    "\n",
    "Hint 1: The Keras example of a [convolutional neural network](https://github.com/fchollet/keras/blob/master/examples/mnist_cnn.py) for MNIST would be a good example to review."
   ]
  },
  {
   "cell_type": "code",
   "execution_count": 40,
   "metadata": {
    "collapsed": false
   },
   "outputs": [],
   "source": [
    "# Re-construct the network and add a convolutional layer before the flatten layer.\n",
    "from keras.layers.convolutional import Convolution2D\n",
    "\n",
    "# Create the Sequential model\n",
    "model = Sequential()\n",
    "\n",
    "# Add a convolution layer with a 3x3 kernel and valid padding\n",
    "model.add(Convolution2D(32, 3, 3, border_mode='valid', input_shape=(32, 32, 3)))\n",
    "\n",
    "# Add a ReLU activation layer\n",
    "model.add(Activation('relu'))\n",
    "\n",
    "# Add a flatten layer\n",
    "model.add(Flatten(input_shape=(32, 32, 3)))\n",
    "\n",
    "# Add a fully connected layer\n",
    "model.add(Dense(128))\n",
    "\n",
    "# Add a ReLU activation layer\n",
    "model.add(Activation('relu'))\n",
    "\n",
    "# Add a fully connected layer\n",
    "model.add(Dense(43))\n",
    "\n",
    "# Add a softmax activation layer\n",
    "model.add(Activation('softmax'))"
   ]
  },
  {
   "cell_type": "code",
   "execution_count": 41,
   "metadata": {
    "collapsed": false
   },
   "outputs": [
    {
     "name": "stdout",
     "output_type": "stream",
     "text": [
      "Train on 31367 samples, validate on 7842 samples\n",
      "Epoch 1/2\n",
      "31367/31367 [==============================] - 4s - loss: 1.2603 - acc: 0.6781 - val_loss: 0.5250 - val_acc: 0.8252\n",
      "Epoch 2/2\n",
      "31367/31367 [==============================] - 3s - loss: 0.3083 - acc: 0.9240 - val_loss: 0.2550 - val_acc: 0.9345\n",
      "Tests passed.\n"
     ]
    }
   ],
   "source": [
    "# STOP: Do not change the tests below. Your implementation should pass these tests.\n",
    "from keras.layers.core import Dense, Activation, Flatten\n",
    "from keras.layers.convolutional import Convolution2D\n",
    "\n",
    "check_layers([Convolution2D, Activation, Flatten, Dense, Activation, Dense, Activation], model.layers)\n",
    "\n",
    "assert model.layers[0].input_shape == (None, 32, 32, 3), 'First layer input shape is wrong, it should be (32, 32, 3)'\n",
    "assert model.layers[0].nb_filter == 32, 'Wrong number of filters, it should be 32'\n",
    "assert model.layers[0].nb_col == model.layers[0].nb_row == 3, 'Kernel size is wrong, it should be a 3x3'\n",
    "assert model.layers[0].border_mode == 'valid', 'Wrong padding, it should be valid'\n",
    "\n",
    "model.compile('adam', 'categorical_crossentropy', ['accuracy'])\n",
    "history = model.fit(X_normalized, y_one_hot, batch_size=128, nb_epoch=2, validation_split=0.2)\n",
    "assert(history.history['val_acc'][-1] > 0.91), \"The validation accuracy is: %.3f.  It should be greater than 0.91\" % history.history['val_acc'][-1]\n",
    "print('Tests passed.')"
   ]
  },
  {
   "cell_type": "markdown",
   "metadata": {},
   "source": [
    "## Pooling\n",
    "1. Re-construct the network\n",
    "2. Add a 2x2 [max pooling layer](https://keras.io/layers/pooling/#maxpooling2d) immediately following your convolutional layer."
   ]
  },
  {
   "cell_type": "code",
   "execution_count": 43,
   "metadata": {
    "collapsed": false
   },
   "outputs": [],
   "source": [
    "# TODO: Re-construct the network and add a pooling layer after the convolutional layer.\n",
    "from keras.layers.pooling import MaxPooling2D\n",
    "\n",
    "# Create the Sequential model\n",
    "model = Sequential()\n",
    "\n",
    "# Add a convolution layer with a 3x3 kernel and valid padding\n",
    "model.add(Convolution2D(32, 3, 3, border_mode='valid', input_shape=(32, 32, 3)))\n",
    "\n",
    "# Add a pooling layer with 2x2 pool size, strides defaulting to pool size.\n",
    "model.add(MaxPooling2D(pool_size=(2, 2), strides=None, border_mode='valid'))\n",
    "          \n",
    "# Add a ReLU activation layer\n",
    "model.add(Activation('relu'))\n",
    "\n",
    "# Add a flatten layer\n",
    "model.add(Flatten(input_shape=(32, 32, 3)))\n",
    "\n",
    "# Add a fully connected layer\n",
    "model.add(Dense(128))\n",
    "\n",
    "# Add a ReLU activation layer\n",
    "model.add(Activation('relu'))\n",
    "\n",
    "# Add a fully connected layer\n",
    "model.add(Dense(43))\n",
    "\n",
    "# Add a softmax activation layer\n",
    "model.add(Activation('softmax'))"
   ]
  },
  {
   "cell_type": "code",
   "execution_count": 44,
   "metadata": {
    "collapsed": false
   },
   "outputs": [
    {
     "name": "stdout",
     "output_type": "stream",
     "text": [
      "Train on 31367 samples, validate on 7842 samples\n",
      "Epoch 1/2\n",
      "31367/31367 [==============================] - 2s - loss: 1.5702 - acc: 0.5926 - val_loss: 0.6438 - val_acc: 0.8194\n",
      "Epoch 2/2\n",
      "31367/31367 [==============================] - 2s - loss: 0.4367 - acc: 0.8971 - val_loss: 0.3296 - val_acc: 0.9147\n",
      "Tests passed.\n"
     ]
    }
   ],
   "source": [
    "# STOP: Do not change the tests below. Your implementation should pass these tests.\n",
    "from keras.layers.core import Dense, Activation, Flatten\n",
    "from keras.layers.convolutional import Convolution2D\n",
    "from keras.layers.pooling import MaxPooling2D\n",
    "\n",
    "check_layers([Convolution2D, MaxPooling2D, Activation, Flatten, Dense, Activation, Dense, Activation], model.layers)\n",
    "assert model.layers[1].pool_size == (2, 2), 'Second layer must be a max pool layer with pool size of 2x2'\n",
    "\n",
    "model.compile('adam', 'categorical_crossentropy', ['accuracy'])\n",
    "history = model.fit(X_normalized, y_one_hot, batch_size=128, nb_epoch=2, validation_split=0.2)\n",
    "assert(history.history['val_acc'][-1] > 0.91), \"The validation accuracy is: %.3f.  It should be greater than 0.91\" % history.history['val_acc'][-1]\n",
    "print('Tests passed.')"
   ]
  },
  {
   "cell_type": "markdown",
   "metadata": {},
   "source": [
    "## Dropout\n",
    "1. Re-construct the network\n",
    "2. Add a [dropout](https://keras.io/layers/core/#dropout) layer after the pooling layer. Set the dropout rate to 50%."
   ]
  },
  {
   "cell_type": "code",
   "execution_count": 51,
   "metadata": {
    "collapsed": false
   },
   "outputs": [],
   "source": [
    "# Re-construct the network and add dropout after the pooling layer.\n",
    "from keras.layers.core import Dropout\n",
    "\n",
    "# Create the Sequential model\n",
    "model = Sequential()\n",
    "\n",
    "# Add a convolution layer with a 3x3 kernel and valid padding\n",
    "model.add(Convolution2D(32, 3, 3, border_mode='valid', input_shape=(32, 32, 3)))\n",
    "\n",
    "# Add a pooling layer with 2x2 pool size, strides defaulting to pool size.\n",
    "model.add(MaxPooling2D(pool_size=(2, 2), strides=None, border_mode='valid'))\n",
    "\n",
    "# Add a dropout layer\n",
    "model.add(Dropout(0.5))\n",
    "\n",
    "# Add a ReLU activation layer\n",
    "model.add(Activation('relu'))\n",
    "\n",
    "# Add a flatten layer\n",
    "model.add(Flatten(input_shape=(32, 32, 3)))\n",
    "\n",
    "# Add a fully connected layer\n",
    "model.add(Dense(128))\n",
    "\n",
    "# Add a ReLU activation layer\n",
    "model.add(Activation('relu'))\n",
    "\n",
    "# Add a fully connected layer\n",
    "model.add(Dense(43))\n",
    "\n",
    "# Add a softmax activation layer\n",
    "model.add(Activation('softmax'))"
   ]
  },
  {
   "cell_type": "code",
   "execution_count": 52,
   "metadata": {
    "collapsed": false
   },
   "outputs": [
    {
     "name": "stdout",
     "output_type": "stream",
     "text": [
      "Train on 31367 samples, validate on 7842 samples\n",
      "Epoch 1/2\n",
      "31367/31367 [==============================] - 3s - loss: 1.5480 - acc: 0.5934 - val_loss: 0.6165 - val_acc: 0.8435\n",
      "Epoch 2/2\n",
      "31367/31367 [==============================] - 2s - loss: 0.4815 - acc: 0.8728 - val_loss: 0.3277 - val_acc: 0.9130\n",
      "Tests passed.\n"
     ]
    }
   ],
   "source": [
    "# STOP: Do not change the tests below. Your implementation should pass these tests.\n",
    "from keras.layers.core import Dense, Activation, Flatten, Dropout\n",
    "from keras.layers.convolutional import Convolution2D\n",
    "from keras.layers.pooling import MaxPooling2D\n",
    "\n",
    "check_layers([Convolution2D, MaxPooling2D, Dropout, Activation, Flatten, Dense, Activation, Dense, Activation], model.layers)\n",
    "assert model.layers[2].p == 0.5, 'Third layer should be a Dropout of 50%'\n",
    "\n",
    "model.compile('adam', 'categorical_crossentropy', ['accuracy'])\n",
    "history = model.fit(X_normalized, y_one_hot, batch_size=128, nb_epoch=2, validation_split=0.2)\n",
    "assert(history.history['val_acc'][-1] > 0.91), \"The validation accuracy is: %.3f.  It should be greater than 0.91\" % history.history['val_acc'][-1]\n",
    "print('Tests passed.')"
   ]
  },
  {
   "cell_type": "markdown",
   "metadata": {},
   "source": [
    "## Optimization\n",
    "Congratulations! You've built a neural network with convolutions, pooling, dropout, and fully-connected layers, all in just a few lines of code.\n",
    "\n",
    "Have fun with the model and see how well you can do! Add more layers, or regularization, or different padding, or batches, or more training epochs.\n",
    "\n",
    "What is the best validation accuracy you can achieve?"
   ]
  },
  {
   "cell_type": "code",
   "execution_count": 56,
   "metadata": {
    "collapsed": false
   },
   "outputs": [
    {
     "name": "stdout",
     "output_type": "stream",
     "text": [
      "Train on 31367 samples, validate on 7842 samples\n",
      "Epoch 1/50\n",
      "31367/31367 [==============================] - 4s - loss: 1.5743 - acc: 0.5440 - val_loss: 0.3574 - val_acc: 0.9129\n",
      "Epoch 2/50\n",
      "31367/31367 [==============================] - 3s - loss: 0.3903 - acc: 0.8781 - val_loss: 0.1476 - val_acc: 0.9637\n",
      "Epoch 3/50\n",
      "31367/31367 [==============================] - 3s - loss: 0.2485 - acc: 0.9214 - val_loss: 0.0994 - val_acc: 0.9755\n",
      "Epoch 4/50\n",
      "31367/31367 [==============================] - 3s - loss: 0.1846 - acc: 0.9432 - val_loss: 0.0957 - val_acc: 0.9745\n",
      "Epoch 5/50\n",
      "31367/31367 [==============================] - 3s - loss: 0.1544 - acc: 0.9502 - val_loss: 0.0423 - val_acc: 0.9879\n",
      "Epoch 6/50\n",
      "31367/31367 [==============================] - 3s - loss: 0.1257 - acc: 0.9599 - val_loss: 0.0561 - val_acc: 0.9892\n",
      "Epoch 7/50\n",
      "31367/31367 [==============================] - 3s - loss: 0.1246 - acc: 0.9601 - val_loss: 0.0367 - val_acc: 0.9906\n",
      "Epoch 8/50\n",
      "31367/31367 [==============================] - 3s - loss: 0.1046 - acc: 0.9660 - val_loss: 0.0519 - val_acc: 0.9866\n",
      "Epoch 9/50\n",
      "31367/31367 [==============================] - 3s - loss: 0.0970 - acc: 0.9700 - val_loss: 0.0273 - val_acc: 0.9934\n",
      "Epoch 10/50\n",
      "31367/31367 [==============================] - 3s - loss: 0.0890 - acc: 0.9729 - val_loss: 0.0227 - val_acc: 0.9941\n",
      "Epoch 11/50\n",
      "31367/31367 [==============================] - 3s - loss: 0.0840 - acc: 0.9734 - val_loss: 0.0230 - val_acc: 0.9935\n",
      "Epoch 12/50\n",
      "31367/31367 [==============================] - 3s - loss: 0.0775 - acc: 0.9753 - val_loss: 0.0229 - val_acc: 0.9940\n",
      "Epoch 13/50\n",
      "31367/31367 [==============================] - 3s - loss: 0.0763 - acc: 0.9750 - val_loss: 0.0392 - val_acc: 0.9921\n",
      "Epoch 14/50\n",
      "31367/31367 [==============================] - 3s - loss: 0.0826 - acc: 0.9739 - val_loss: 0.0252 - val_acc: 0.9927\n",
      "Epoch 15/50\n",
      "31367/31367 [==============================] - 3s - loss: 0.0673 - acc: 0.9786 - val_loss: 0.0288 - val_acc: 0.9938\n",
      "Epoch 16/50\n",
      "31367/31367 [==============================] - 3s - loss: 0.0680 - acc: 0.9777 - val_loss: 0.0227 - val_acc: 0.9939\n",
      "Epoch 17/50\n",
      "31367/31367 [==============================] - 3s - loss: 0.0649 - acc: 0.9798 - val_loss: 0.0169 - val_acc: 0.9958\n",
      "Epoch 18/50\n",
      "31367/31367 [==============================] - 3s - loss: 0.0636 - acc: 0.9799 - val_loss: 0.0146 - val_acc: 0.9963\n",
      "Epoch 19/50\n",
      "31367/31367 [==============================] - 3s - loss: 0.0615 - acc: 0.9816 - val_loss: 0.0160 - val_acc: 0.9959\n",
      "Epoch 20/50\n",
      "31367/31367 [==============================] - 3s - loss: 0.0601 - acc: 0.9814 - val_loss: 0.0199 - val_acc: 0.9953\n",
      "Epoch 21/50\n",
      "31367/31367 [==============================] - 3s - loss: 0.0602 - acc: 0.9814 - val_loss: 0.0168 - val_acc: 0.9960\n",
      "Epoch 22/50\n",
      "31367/31367 [==============================] - 3s - loss: 0.0519 - acc: 0.9828 - val_loss: 0.0175 - val_acc: 0.9963\n",
      "Epoch 23/50\n",
      "31367/31367 [==============================] - 3s - loss: 0.0559 - acc: 0.9829 - val_loss: 0.0182 - val_acc: 0.9958\n",
      "Epoch 24/50\n",
      "31367/31367 [==============================] - 3s - loss: 0.0590 - acc: 0.9818 - val_loss: 0.0182 - val_acc: 0.9955\n",
      "Epoch 25/50\n",
      "31367/31367 [==============================] - 3s - loss: 0.0537 - acc: 0.9832 - val_loss: 0.0229 - val_acc: 0.9944\n",
      "Epoch 26/50\n",
      "31367/31367 [==============================] - 3s - loss: 0.0532 - acc: 0.9827 - val_loss: 0.0164 - val_acc: 0.9958\n",
      "Epoch 27/50\n",
      "31367/31367 [==============================] - 3s - loss: 0.0539 - acc: 0.9836 - val_loss: 0.0267 - val_acc: 0.9926\n",
      "Epoch 28/50\n",
      "31367/31367 [==============================] - 3s - loss: 0.0462 - acc: 0.9854 - val_loss: 0.0134 - val_acc: 0.9971\n",
      "Epoch 29/50\n",
      "31367/31367 [==============================] - 3s - loss: 0.0510 - acc: 0.9848 - val_loss: 0.0182 - val_acc: 0.9959\n",
      "Epoch 30/50\n",
      "31367/31367 [==============================] - 3s - loss: 0.0457 - acc: 0.9861 - val_loss: 0.0155 - val_acc: 0.9964\n",
      "Epoch 31/50\n",
      "31367/31367 [==============================] - 3s - loss: 0.0500 - acc: 0.9849 - val_loss: 0.0185 - val_acc: 0.9960\n",
      "Epoch 32/50\n",
      "31367/31367 [==============================] - 3s - loss: 0.0504 - acc: 0.9843 - val_loss: 0.0173 - val_acc: 0.9955\n",
      "Epoch 33/50\n",
      "31367/31367 [==============================] - 3s - loss: 0.0506 - acc: 0.9847 - val_loss: 0.0157 - val_acc: 0.9958\n",
      "Epoch 34/50\n",
      "31367/31367 [==============================] - 3s - loss: 0.0464 - acc: 0.9863 - val_loss: 0.0147 - val_acc: 0.9966\n",
      "Epoch 35/50\n",
      "31367/31367 [==============================] - 3s - loss: 0.0481 - acc: 0.9848 - val_loss: 0.0186 - val_acc: 0.9950\n",
      "Epoch 36/50\n",
      "31367/31367 [==============================] - 3s - loss: 0.0474 - acc: 0.9850 - val_loss: 0.0238 - val_acc: 0.9943\n",
      "Epoch 37/50\n",
      "31367/31367 [==============================] - 3s - loss: 0.0472 - acc: 0.9857 - val_loss: 0.0183 - val_acc: 0.9957\n",
      "Epoch 38/50\n",
      "31367/31367 [==============================] - 3s - loss: 0.0410 - acc: 0.9878 - val_loss: 0.0147 - val_acc: 0.9955\n",
      "Epoch 39/50\n",
      "31367/31367 [==============================] - 3s - loss: 0.0434 - acc: 0.9870 - val_loss: 0.0120 - val_acc: 0.9972\n",
      "Epoch 40/50\n",
      "31367/31367 [==============================] - 3s - loss: 0.0387 - acc: 0.9877 - val_loss: 0.0147 - val_acc: 0.9966\n",
      "Epoch 41/50\n",
      "31367/31367 [==============================] - 3s - loss: 0.0483 - acc: 0.9866 - val_loss: 0.0186 - val_acc: 0.9957\n",
      "Epoch 42/50\n",
      "31367/31367 [==============================] - 3s - loss: 0.0382 - acc: 0.9881 - val_loss: 0.0149 - val_acc: 0.9962\n",
      "Epoch 43/50\n",
      "31367/31367 [==============================] - 3s - loss: 0.0444 - acc: 0.9864 - val_loss: 0.0180 - val_acc: 0.9963\n",
      "Epoch 44/50\n",
      "31367/31367 [==============================] - 3s - loss: 0.0369 - acc: 0.9892 - val_loss: 0.0145 - val_acc: 0.9973\n",
      "Epoch 45/50\n",
      "31367/31367 [==============================] - 3s - loss: 0.0464 - acc: 0.9869 - val_loss: 0.0173 - val_acc: 0.9969\n",
      "Epoch 46/50\n",
      "31367/31367 [==============================] - 3s - loss: 0.0380 - acc: 0.9888 - val_loss: 0.0345 - val_acc: 0.9931\n",
      "Epoch 47/50\n",
      "31367/31367 [==============================] - 3s - loss: 0.0455 - acc: 0.9873 - val_loss: 0.0098 - val_acc: 0.9981\n",
      "Epoch 48/50\n",
      "31367/31367 [==============================] - 3s - loss: 0.0365 - acc: 0.9896 - val_loss: 0.0131 - val_acc: 0.9972\n",
      "Epoch 49/50\n",
      "31367/31367 [==============================] - 3s - loss: 0.0371 - acc: 0.9891 - val_loss: 0.0114 - val_acc: 0.9974\n",
      "Epoch 50/50\n",
      "31367/31367 [==============================] - 3s - loss: 0.0625 - acc: 0.9821 - val_loss: 0.0140 - val_acc: 0.9966\n",
      "39168/39209 [============================>.] - ETA: 0s\n",
      "Validation accuracy: 0.996557000765\n"
     ]
    }
   ],
   "source": [
    "# Build a model\n",
    "# Create the Sequential model\n",
    "model = Sequential()\n",
    "\n",
    "# Add a convolution layer with a 3x3 kernel and valid padding\n",
    "model.add(Convolution2D(24, 5, 5, border_mode='valid', input_shape=(32, 32, 3)))\n",
    "\n",
    "# Add a pooling layer with 2x2 pool size, strides defaulting to pool size.\n",
    "model.add(MaxPooling2D(pool_size=(2, 2), strides=None, border_mode='valid'))\n",
    "\n",
    "# Add a dropout layer\n",
    "model.add(Dropout(0.5))\n",
    "\n",
    "# Add a ReLU activation layer\n",
    "model.add(Activation('relu'))\n",
    "\n",
    "# Add a convolution layer with a 3x3 kernel and valid padding\n",
    "model.add(Convolution2D(72, 5, 5, border_mode='valid'))\n",
    "\n",
    "# Add a pooling layer with 2x2 pool size, strides defaulting to pool size.\n",
    "model.add(MaxPooling2D(pool_size=(2, 2), strides=None, border_mode='valid'))\n",
    "\n",
    "# Add a dropout layer\n",
    "model.add(Dropout(0.5))\n",
    "\n",
    "# Add a ReLU activation layer\n",
    "model.add(Activation('relu'))\n",
    "\n",
    "# Add a flatten layer\n",
    "model.add(Flatten(input_shape=(5, 5, 72)))\n",
    "\n",
    "# Add a fully connected layer\n",
    "model.add(Dense(1000))\n",
    "\n",
    "# Add a ReLU activation layer\n",
    "model.add(Activation('relu'))\n",
    "\n",
    "# Add a fully connected layer\n",
    "model.add(Dense(500))\n",
    "\n",
    "# Add a ReLU activation layer\n",
    "model.add(Activation('relu'))\n",
    "\n",
    "# Add a fully connected layer\n",
    "model.add(Dense(43))\n",
    "\n",
    "# Add a softmax activation layer\n",
    "model.add(Activation('softmax'))\n",
    "\n",
    "# TODO: Compile and train the model\n",
    "# Compile and train the model here.\n",
    "# Configures the learning process and metrics\n",
    "model.compile('adam', 'categorical_crossentropy', ['accuracy'])\n",
    "# Train the model\n",
    "# History is a record of training loss and metrics\n",
    "history = model.fit(X_normalized, y_one_hot, batch_size=128, nb_epoch=50, validation_split=0.2, verbose=True)\n",
    "\n",
    "# Calculate test score\n",
    "test_score = model.evaluate(X_normalized, y_one_hot)\n",
    "print()\n",
    "print(\"Validation accuracy:\", history.history['val_acc'][-1])"
   ]
  },
  {
   "cell_type": "markdown",
   "metadata": {},
   "source": [
    "**Best Validation Accuracy:** 0.9981"
   ]
  },
  {
   "cell_type": "markdown",
   "metadata": {},
   "source": [
    "## Testing\n",
    "Once you've picked out your best model, it's time to test it.\n",
    "\n",
    "Load up the test data and use the [`evaluate()` method](https://keras.io/models/model/#evaluate) to see how well it does.\n",
    "\n",
    "Hint 1: The `evaluate()` method should return an array of numbers. Use the [`metrics_names`](https://keras.io/models/model/) property to get the labels."
   ]
  },
  {
   "cell_type": "code",
   "execution_count": 59,
   "metadata": {
    "collapsed": false
   },
   "outputs": [
    {
     "name": "stdout",
     "output_type": "stream",
     "text": [
      "12608/12630 [============================>.] - ETA: 0s\n",
      "Test accuracy: 0.943309580383\n"
     ]
    }
   ],
   "source": [
    "# Load test data\n",
    "with open('test.p', 'rb') as f:\n",
    "    test_data = pickle.load(f)\n",
    "X_test, y_test = test_data['features'], test_data['labels']\n",
    "\n",
    "# Preprocess data & one-hot encode the labels\n",
    "X_test_normalized = normalize(X_test)\n",
    "with tf.Session() as sess:\n",
    "    # sess.run(tf.global_variables_initializer())\n",
    "    y_test_one_hot = sess.run(one_hot, feed_dict={label_placeholder: y_test})\n",
    "    \n",
    "# Evaluate model on test data\n",
    "# Calculate test accuracy\n",
    "test_loss, test_accuracy = model.evaluate(X_test_normalized, y_test_one_hot)\n",
    "print()\n",
    "print(\"Test accuracy:\", test_accuracy)"
   ]
  },
  {
   "cell_type": "markdown",
   "metadata": {},
   "source": [
    "**Test Accuracy:** 0.9433"
   ]
  },
  {
   "cell_type": "markdown",
   "metadata": {},
   "source": [
    "## Summary\n",
    "Keras is a great tool to use if you want to quickly build a neural network and evaluate performance."
   ]
  }
 ],
 "metadata": {
  "anaconda-cloud": {},
  "kernelspec": {
   "display_name": "Python [default]",
   "language": "python",
   "name": "python3"
  },
  "language_info": {
   "codemirror_mode": {
    "name": "ipython",
    "version": 3
   },
   "file_extension": ".py",
   "mimetype": "text/x-python",
   "name": "python",
   "nbconvert_exporter": "python",
   "pygments_lexer": "ipython3",
   "version": "3.5.2"
  }
 },
 "nbformat": 4,
 "nbformat_minor": 0
}
