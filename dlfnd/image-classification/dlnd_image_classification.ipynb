{
 "cells": [
  {
   "cell_type": "markdown",
   "metadata": {
    "collapsed": true,
    "deletable": true,
    "editable": true
   },
   "source": [
    "# Image Classification\n",
    "In this project, you'll classify images from the [CIFAR-10 dataset](https://www.cs.toronto.edu/~kriz/cifar.html).  The dataset consists of airplanes, dogs, cats, and other objects. You'll preprocess the images, then train a convolutional neural network on all the samples. The images need to be normalized and the labels need to be one-hot encoded.  You'll get to apply what you learned and build a convolutional, max pooling, dropout, and fully connected layers.  At the end, you'll get to see your neural network's predictions on the sample images.\n",
    "## Get the Data\n",
    "Run the following cell to download the [CIFAR-10 dataset for python](https://www.cs.toronto.edu/~kriz/cifar-10-python.tar.gz)."
   ]
  },
  {
   "cell_type": "code",
   "execution_count": 1,
   "metadata": {
    "collapsed": false,
    "deletable": true,
    "editable": true
   },
   "outputs": [
    {
     "name": "stderr",
     "output_type": "stream",
     "text": [
      "CIFAR-10 Dataset: 171MB [00:24, 6.86MB/s]                                                                              \n"
     ]
    },
    {
     "name": "stdout",
     "output_type": "stream",
     "text": [
      "All files found!\n"
     ]
    }
   ],
   "source": [
    "\"\"\"\n",
    "DON'T MODIFY ANYTHING IN THIS CELL THAT IS BELOW THIS LINE\n",
    "\"\"\"\n",
    "from urllib.request import urlretrieve\n",
    "from os.path import isfile, isdir\n",
    "from tqdm import tqdm\n",
    "import problem_unittests as tests\n",
    "import tarfile\n",
    "\n",
    "cifar10_dataset_folder_path = 'cifar-10-batches-py'\n",
    "\n",
    "class DLProgress(tqdm):\n",
    "    last_block = 0\n",
    "\n",
    "    def hook(self, block_num=1, block_size=1, total_size=None):\n",
    "        self.total = total_size\n",
    "        self.update((block_num - self.last_block) * block_size)\n",
    "        self.last_block = block_num\n",
    "\n",
    "if not isfile('cifar-10-python.tar.gz'):\n",
    "    with DLProgress(unit='B', unit_scale=True, miniters=1, desc='CIFAR-10 Dataset') as pbar:\n",
    "        urlretrieve(\n",
    "            'https://www.cs.toronto.edu/~kriz/cifar-10-python.tar.gz',\n",
    "            'cifar-10-python.tar.gz',\n",
    "            pbar.hook)\n",
    "\n",
    "if not isdir(cifar10_dataset_folder_path):\n",
    "    with tarfile.open('cifar-10-python.tar.gz') as tar:\n",
    "        tar.extractall()\n",
    "        tar.close()\n",
    "\n",
    "\n",
    "tests.test_folder_path(cifar10_dataset_folder_path)"
   ]
  },
  {
   "cell_type": "markdown",
   "metadata": {
    "deletable": true,
    "editable": true
   },
   "source": [
    "## Explore the Data\n",
    "The dataset is broken into batches to prevent your machine from running out of memory.  The CIFAR-10 dataset consists of 5 batches, named `data_batch_1`, `data_batch_2`, etc.. Each batch contains the labels and images that are one of the following:\n",
    "* airplane\n",
    "* automobile\n",
    "* bird\n",
    "* cat\n",
    "* deer\n",
    "* dog\n",
    "* frog\n",
    "* horse\n",
    "* ship\n",
    "* truck\n",
    "\n",
    "Understanding a dataset is part of making predictions on the data.  Play around with the code cell below by changing the `batch_id` and `sample_id`. The `batch_id` is the id for a batch (1-5). The `sample_id` is the id for a image and label pair in the batch.\n",
    "\n",
    "Ask yourself \"What are all possible labels?\", \"What is the range of values for the image data?\", \"Are the labels in order or random?\".  Answers to questions like these will help you preprocess the data and end up with better predictions."
   ]
  },
  {
   "cell_type": "code",
   "execution_count": 2,
   "metadata": {
    "collapsed": false,
    "deletable": true,
    "editable": true
   },
   "outputs": [
    {
     "name": "stdout",
     "output_type": "stream",
     "text": [
      "\n",
      "Stats of batch 5:\n",
      "Samples: 10000\n",
      "Label Counts: {0: 1014, 1: 1014, 2: 952, 3: 1016, 4: 997, 5: 1025, 6: 980, 7: 977, 8: 1003, 9: 1022}\n",
      "First 20 Labels: [1, 8, 5, 1, 5, 7, 4, 3, 8, 2, 7, 2, 0, 1, 5, 9, 6, 2, 0, 8]\n",
      "\n",
      "Example of Image 25:\n",
      "Image - Min Value: 0 Max Value: 249\n",
      "Image - Shape: (32, 32, 3)\n",
      "Label - Label Id: 7 Name: horse\n"
     ]
    },
    {
     "data": {
      "image/png": "[encoded data removed]",
      "text/plain": [
       "<matplotlib.figure.Figure at 0x14cc4fbc7b8>"
      ]
     },
     "metadata": {
      "image/png": {
       "height": 250,
       "width": 253
      }
     },
     "output_type": "display_data"
    }
   ],
   "source": [
    "%matplotlib inline\n",
    "%config InlineBackend.figure_format = 'retina'\n",
    "\n",
    "import helper\n",
    "import numpy as np\n",
    "\n",
    "batch_id = 5\n",
    "sample_id = 25\n",
    "helper.display_stats(cifar10_dataset_folder_path, batch_id, sample_id)# Explore the dataset"
   ]
  },
  {
   "cell_type": "markdown",
   "metadata": {
    "deletable": true,
    "editable": true
   },
   "source": [
    "## Implement Preprocess Functions\n",
    "### Normalize\n",
    "In the cell below, implement the `normalize` function to take in image data, `x`, and return it as a normalized Numpy array. The values should be in the range of 0 to 1, inclusive.  The return object should be the same shape as `x`."
   ]
  },
  {
   "cell_type": "code",
   "execution_count": 3,
   "metadata": {
    "collapsed": false,
    "deletable": true,
    "editable": true
   },
   "outputs": [
    {
     "name": "stdout",
     "output_type": "stream",
     "text": [
      "Tests Passed\n"
     ]
    }
   ],
   "source": [
    "def normalize(x):\n",
    "    \"\"\"\n",
    "    Normalize a list of sample image data in the range of 0 to 1\n",
    "    : x: List of image data.  The image shape is (32, 32, 3)\n",
    "    : return: Numpy array of normalize data\n",
    "    \"\"\"\n",
    "    # TODO: Implement Function\n",
    "    return np.divide(x, 255)\n",
    "\n",
    "\n",
    "\"\"\"\n",
    "DON'T MODIFY ANYTHING IN THIS CELL THAT IS BELOW THIS LINE\n",
    "\"\"\"\n",
    "tests.test_normalize(normalize)"
   ]
  },
  {
   "cell_type": "markdown",
   "metadata": {
    "deletable": true,
    "editable": true
   },
   "source": [
    "### One-hot encode\n",
    "Just like the previous code cell, you'll be implementing a function for preprocessing.  This time, you'll implement the `one_hot_encode` function. The input, `x`, are a list of labels.  Implement the function to return the list of labels as One-Hot encoded Numpy array.  The possible values for labels are 0 to 9. The one-hot encoding function should return the same encoding for each value between each call to `one_hot_encode`.  Make sure to save the map of encodings outside the function.\n",
    "\n",
    "Hint: Don't reinvent the wheel."
   ]
  },
  {
   "cell_type": "code",
   "execution_count": 4,
   "metadata": {
    "collapsed": false,
    "deletable": true,
    "editable": true
   },
   "outputs": [
    {
     "name": "stdout",
     "output_type": "stream",
     "text": [
      "Tests Passed\n"
     ]
    }
   ],
   "source": [
    "from sklearn.preprocessing import OneHotEncoder\n",
    "\n",
    "def one_hot_encode(x):\n",
    "    \"\"\"\n",
    "    One hot encode a list of sample labels. Return a one-hot encoded vector for each label.\n",
    "    : x: List of sample Labels\n",
    "    : return: Numpy array of one-hot encoded labels\n",
    "    \"\"\"\n",
    "    encoded = np.zeros((len(x), 10))\n",
    "    for i in range(len(x)):\n",
    "        encoded[i, x[i]] = 1.0\n",
    "    return encoded\n",
    "\"\"\"\n",
    "DON'T MODIFY ANYTHING IN THIS CELL THAT IS BELOW THIS LINE\n",
    "\"\"\"\n",
    "tests.test_one_hot_encode(one_hot_encode)"
   ]
  },
  {
   "cell_type": "markdown",
   "metadata": {
    "deletable": true,
    "editable": true
   },
   "source": [
    "### Randomize Data\n",
    "As you saw from exploring the data above, the order of the samples are randomized.  It doesn't hurt to randomize it again, but you don't need to for this dataset."
   ]
  },
  {
   "cell_type": "markdown",
   "metadata": {
    "deletable": true,
    "editable": true
   },
   "source": [
    "## Preprocess all the data and save it\n",
    "Running the code cell below will preprocess all the CIFAR-10 data and save it to file. The code below also uses 10% of the training data for validation."
   ]
  },
  {
   "cell_type": "code",
   "execution_count": 5,
   "metadata": {
    "collapsed": false,
    "deletable": true,
    "editable": true
   },
   "outputs": [],
   "source": [
    "\"\"\"\n",
    "DON'T MODIFY ANYTHING IN THIS CELL\n",
    "\"\"\"\n",
    "# Preprocess Training, Validation, and Testing Data\n",
    "helper.preprocess_and_save_data(cifar10_dataset_folder_path, normalize, one_hot_encode)"
   ]
  },
  {
   "cell_type": "markdown",
   "metadata": {
    "deletable": true,
    "editable": true
   },
   "source": [
    "# Check Point\n",
    "This is your first checkpoint.  If you ever decide to come back to this notebook or have to restart the notebook, you can start from here.  The preprocessed data has been saved to disk."
   ]
  },
  {
   "cell_type": "code",
   "execution_count": 6,
   "metadata": {
    "collapsed": true,
    "deletable": true,
    "editable": true
   },
   "outputs": [],
   "source": [
    "\"\"\"\n",
    "DON'T MODIFY ANYTHING IN THIS CELL\n",
    "\"\"\"\n",
    "import pickle\n",
    "import problem_unittests as tests\n",
    "import helper\n",
    "\n",
    "# Load the Preprocessed Validation data\n",
    "valid_features, valid_labels = pickle.load(open('preprocess_validation.p', mode='rb'))"
   ]
  },
  {
   "cell_type": "markdown",
   "metadata": {
    "deletable": true,
    "editable": true
   },
   "source": [
    "## Build the network\n",
    "For the neural network, you'll build each layer into a function.  Most of the code you've seen has been outside of functions. To test your code more thoroughly, we require that you put each layer in a function.  This allows us to give you better feedback and test for simple mistakes using our unittests before you submit your project.\n",
    "\n",
    ">**Note:** If you're finding it hard to dedicate enough time for this course each week, we've provided a small shortcut to this part of the project. In the next couple of problems, you'll have the option to use classes from the [TensorFlow Layers](https://www.tensorflow.org/api_docs/python/tf/layers) or [TensorFlow Layers (contrib)](https://www.tensorflow.org/api_guides/python/contrib.layers) packages to build each layer, except the layers you build in the \"Convolutional and Max Pooling Layer\" section.  TF Layers is similar to Keras's and TFLearn's abstraction to layers, so it's easy to pickup.\n",
    "\n",
    ">However, if you would like to get the most out of this course, try to solve all the problems _without_ using anything from the TF Layers packages. You **can** still use classes from other packages that happen to have the same name as ones you find in TF Layers! For example, instead of using the TF Layers version of the `conv2d` class, [tf.layers.conv2d](https://www.tensorflow.org/api_docs/python/tf/layers/conv2d), you would want to use the TF Neural Network version of `conv2d`, [tf.nn.conv2d](https://www.tensorflow.org/api_docs/python/tf/nn/conv2d). \n",
    "\n",
    "Let's begin!\n",
    "\n",
    "### Input\n",
    "The neural network needs to read the image data, one-hot encoded labels, and dropout keep probability. Implement the following functions\n",
    "* Implement `neural_net_image_input`\n",
    " * Return a [TF Placeholder](https://www.tensorflow.org/api_docs/python/tf/placeholder)\n",
    " * Set the shape using `image_shape` with batch size set to `None`.\n",
    " * Name the TensorFlow placeholder \"x\" using the TensorFlow `name` parameter in the [TF Placeholder](https://www.tensorflow.org/api_docs/python/tf/placeholder).\n",
    "* Implement `neural_net_label_input`\n",
    " * Return a [TF Placeholder](https://www.tensorflow.org/api_docs/python/tf/placeholder)\n",
    " * Set the shape using `n_classes` with batch size set to `None`.\n",
    " * Name the TensorFlow placeholder \"y\" using the TensorFlow `name` parameter in the [TF Placeholder](https://www.tensorflow.org/api_docs/python/tf/placeholder).\n",
    "* Implement `neural_net_keep_prob_input`\n",
    " * Return a [TF Placeholder](https://www.tensorflow.org/api_docs/python/tf/placeholder) for dropout keep probability.\n",
    " * Name the TensorFlow placeholder \"keep_prob\" using the TensorFlow `name` parameter in the [TF Placeholder](https://www.tensorflow.org/api_docs/python/tf/placeholder).\n",
    "\n",
    "These names will be used at the end of the project to load your saved model.\n",
    "\n",
    "Note: `None` for shapes in TensorFlow allow for a dynamic size."
   ]
  },
  {
   "cell_type": "code",
   "execution_count": 140,
   "metadata": {
    "collapsed": false,
    "deletable": true,
    "editable": true
   },
   "outputs": [
    {
     "name": "stdout",
     "output_type": "stream",
     "text": [
      "Image Input Tests Passed.\n",
      "Label Input Tests Passed.\n",
      "Keep Prob Tests Passed.\n"
     ]
    }
   ],
   "source": [
    "import tensorflow as tf\n",
    "\n",
    "def neural_net_image_input(image_shape):\n",
    "    \"\"\"\n",
    "    Return a Tensor for a batch of image input\n",
    "    : image_shape: Shape of the images\n",
    "    : return: Tensor for image input.\n",
    "    \"\"\"\n",
    "    # TODO: Implement Function\n",
    "    return tf.placeholder(tf.float32, shape=(None, image_shape[0], image_shape[1], image_shape[2]), name='x')\n",
    "\n",
    "\n",
    "def neural_net_label_input(n_classes):\n",
    "    \"\"\"\n",
    "    Return a Tensor for a batch of label input\n",
    "    : n_classes: Number of classes\n",
    "    : return: Tensor for label input.\n",
    "    \"\"\"\n",
    "    # TODO: Implement Function\n",
    "    return tf.placeholder(tf.float32, shape=(None, n_classes), name='y')\n",
    "\n",
    "\n",
    "def neural_net_keep_prob_input():\n",
    "    \"\"\"\n",
    "    Return a Tensor for keep probability\n",
    "    : return: Tensor for keep probability.\n",
    "    \"\"\"\n",
    "    # TODO: Implement Function\n",
    "    return tf.placeholder(tf.float32, name='keep_prob')\n",
    "\n",
    "\n",
    "\"\"\"\n",
    "DON'T MODIFY ANYTHING IN THIS CELL THAT IS BELOW THIS LINE\n",
    "\"\"\"\n",
    "tf.reset_default_graph()\n",
    "tests.test_nn_image_inputs(neural_net_image_input)\n",
    "tests.test_nn_label_inputs(neural_net_label_input)\n",
    "tests.test_nn_keep_prob_inputs(neural_net_keep_prob_input)"
   ]
  },
  {
   "cell_type": "markdown",
   "metadata": {
    "deletable": true,
    "editable": true
   },
   "source": [
    "### Convolution and Max Pooling Layer\n",
    "Convolution layers have a lot of success with images. For this code cell, you should implement the function `conv2d_maxpool` to apply convolution then max pooling:\n",
    "* Create the weight and bias using `conv_ksize`, `conv_num_outputs` and the shape of `x_tensor`.\n",
    "* Apply a convolution to `x_tensor` using weight and `conv_strides`.\n",
    " * We recommend you use same padding, but you're welcome to use any padding.\n",
    "* Add bias\n",
    "* Add a nonlinear activation to the convolution.\n",
    "* Apply Max Pooling using `pool_ksize` and `pool_strides`.\n",
    " * We recommend you use same padding, but you're welcome to use any padding.\n",
    "\n",
    "**Note:** You **can't** use [TensorFlow Layers](https://www.tensorflow.org/api_docs/python/tf/layers) or [TensorFlow Layers (contrib)](https://www.tensorflow.org/api_guides/python/contrib.layers) for **this** layer, but you can still use TensorFlow's [Neural Network](https://www.tensorflow.org/api_docs/python/tf/nn) package. You may still use the shortcut option for all the **other** layers."
   ]
  },
  {
   "cell_type": "code",
   "execution_count": 344,
   "metadata": {
    "collapsed": false,
    "deletable": true,
    "editable": true
   },
   "outputs": [
    {
     "name": "stdout",
     "output_type": "stream",
     "text": [
      "Tests Passed\n"
     ]
    }
   ],
   "source": [
    "IS_TRAINING=True\n",
    "\n",
    "def conv2d_maxpool(x_tensor, conv_num_outputs, conv_ksize, conv_strides, pool_ksize, pool_strides):\n",
    "    \"\"\"\n",
    "    Apply convolution then max pooling to x_tensor\n",
    "    :param x_tensor: TensorFlow Tensor\n",
    "    :param conv_num_outputs: Number of outputs for the convolutional layer\n",
    "    :param conv_ksize: kernal size 2-D Tuple for the convolutional layer\n",
    "    :param conv_strides: Stride 2-D Tuple for convolution\n",
    "    :param pool_ksize: kernal size 2-D Tuple for pool\n",
    "    :param pool_strides: Stride 2-D Tuple for pool\n",
    "    : return: A tensor that represents convolution and max pooling of x_tensor\n",
    "    \"\"\"\n",
    "    # TODO: Implement Function\n",
    "    input_shape = x_tensor.get_shape().as_list()\n",
    "    vshape = [conv_ksize[0], conv_ksize[1], input_shape[3], conv_num_outputs]\n",
    "    random = tf.truncated_normal(vshape)\n",
    "    filters = tf.Variable(random)\n",
    "    biases = tf.Variable(tf.zeros([conv_num_outputs]))\n",
    "    conv_stride_shape = [1, conv_strides[0], conv_strides[1], 1]\n",
    "    pool_kernel_shape = [1, pool_ksize[0], pool_ksize[1], 1]\n",
    "    pool_stride_shape = [1, pool_strides[0], pool_strides[1], 1]\n",
    "    out = tf.nn.conv2d(x_tensor, filters, conv_stride_shape, \"SAME\");\n",
    "    out = tf.add(out, biases)\n",
    "    out = tf.contrib.layers.batch_norm(out, center=True, scale=True, is_training=IS_TRAINING)\n",
    "    out = tf.nn.relu(out)\n",
    "    out = tf.nn.max_pool(out, pool_kernel_shape, pool_stride_shape, \"SAME\");\n",
    "    return out\n",
    "\n",
    "\n",
    "\"\"\"\n",
    "DON'T MODIFY ANYTHING IN THIS CELL THAT IS BELOW THIS LINE\n",
    "\"\"\"\n",
    "tests.test_con_pool(conv2d_maxpool)"
   ]
  },
  {
   "cell_type": "markdown",
   "metadata": {
    "deletable": true,
    "editable": true
   },
   "source": [
    "### Flatten Layer\n",
    "Implement the `flatten` function to change the dimension of `x_tensor` from a 4-D tensor to a 2-D tensor.  The output should be the shape (*Batch Size*, *Flattened Image Size*). Shortcut option: you can use classes from the [TensorFlow Layers](https://www.tensorflow.org/api_docs/python/tf/layers) or [TensorFlow Layers (contrib)](https://www.tensorflow.org/api_guides/python/contrib.layers) packages for this layer. For more of a challenge, only use other TensorFlow packages."
   ]
  },
  {
   "cell_type": "code",
   "execution_count": 345,
   "metadata": {
    "collapsed": false,
    "deletable": true,
    "editable": true
   },
   "outputs": [
    {
     "name": "stdout",
     "output_type": "stream",
     "text": [
      "flatten size 1800\n",
      "Tests Passed\n"
     ]
    }
   ],
   "source": [
    "def flatten(x_tensor):\n",
    "    \"\"\"\n",
    "    Flatten x_tensor to (Batch Size, Flattened Image Size)\n",
    "    : x_tensor: A tensor of size (Batch Size, ...), where ... are the image dimensions.\n",
    "    : return: A tensor of size (Batch Size, Flattened Image Size).\n",
    "    \"\"\"\n",
    "    # TODO: Implement Function\n",
    "    shape = x_tensor.get_shape().as_list()\n",
    "    dim = np.prod(shape[1:])\n",
    "    print(\"flatten size\", dim)\n",
    "    return tf.reshape(x_tensor, [-1, dim])\n",
    "\n",
    "\n",
    "\"\"\"\n",
    "DON'T MODIFY ANYTHING IN THIS CELL THAT IS BELOW THIS LINE\n",
    "\"\"\"\n",
    "tests.test_flatten(flatten)"
   ]
  },
  {
   "cell_type": "markdown",
   "metadata": {
    "deletable": true,
    "editable": true
   },
   "source": [
    "### Fully-Connected Layer\n",
    "Implement the `fully_conn` function to apply a fully connected layer to `x_tensor` with the shape (*Batch Size*, *num_outputs*). Shortcut option: you can use classes from the [TensorFlow Layers](https://www.tensorflow.org/api_docs/python/tf/layers) or [TensorFlow Layers (contrib)](https://www.tensorflow.org/api_guides/python/contrib.layers) packages for this layer. For more of a challenge, only use other TensorFlow packages."
   ]
  },
  {
   "cell_type": "code",
   "execution_count": 373,
   "metadata": {
    "collapsed": false,
    "deletable": true,
    "editable": true
   },
   "outputs": [
    {
     "name": "stdout",
     "output_type": "stream",
     "text": [
      "Tests Passed\n"
     ]
    }
   ],
   "source": [
    "def fully_conn(x_tensor, num_outputs):\n",
    "    \"\"\"\n",
    "    Apply a fully connected layer to x_tensor using weight and bias\n",
    "    : x_tensor: A 2-D tensor where the first dimension is batch size.\n",
    "    : num_outputs: The number of output that the new tensor should be.\n",
    "    : return: A 2-D tensor where the second dimension is num_outputs.\n",
    "    \"\"\"\n",
    "    # TODO: Implement Function\n",
    "    input_shape = x_tensor.get_shape().as_list()    \n",
    "    weights = tf.Variable(tf.truncated_normal([input_shape[1], num_outputs]))\n",
    "    biases = tf.Variable(tf.zeros([num_outputs]))\n",
    "    out = tf.add(tf.matmul(x_tensor, weights), biases)\n",
    "    # Adding eLU or ReLU activation here drives validation accuracy back to 10% after reaching around 20%.\n",
    "    # out = tf.nn.relu(out)\n",
    "    return out\n",
    "\n",
    "\"\"\"\n",
    "DON'T MODIFY ANYTHING IN THIS CELL THAT IS BELOW THIS LINE\n",
    "\"\"\"\n",
    "tests.test_fully_conn(fully_conn)"
   ]
  },
  {
   "cell_type": "markdown",
   "metadata": {
    "deletable": true,
    "editable": true
   },
   "source": [
    "### Output Layer\n",
    "Implement the `output` function to apply a fully connected layer to `x_tensor` with the shape (*Batch Size*, *num_outputs*). Shortcut option: you can use classes from the [TensorFlow Layers](https://www.tensorflow.org/api_docs/python/tf/layers) or [TensorFlow Layers (contrib)](https://www.tensorflow.org/api_guides/python/contrib.layers) packages for this layer. For more of a challenge, only use other TensorFlow packages.\n",
    "\n",
    "**Note:** Activation, softmax, or cross entropy should **not** be applied to this."
   ]
  },
  {
   "cell_type": "code",
   "execution_count": 374,
   "metadata": {
    "collapsed": false,
    "deletable": true,
    "editable": true
   },
   "outputs": [
    {
     "name": "stdout",
     "output_type": "stream",
     "text": [
      "Tests Passed\n"
     ]
    }
   ],
   "source": [
    "def output(x_tensor, num_outputs):\n",
    "    \"\"\"\n",
    "    Apply a output layer to x_tensor using weight and bias\n",
    "    : x_tensor: A 2-D tensor where the first dimension is batch size.\n",
    "    : num_outputs: The number of output that the new tensor should be.\n",
    "    : return: A 2-D tensor where the second dimension is num_outputs.\n",
    "    \"\"\"\n",
    "    # TODO: Implement Function\n",
    "    input_shape = x_tensor.get_shape().as_list()    \n",
    "    weights = tf.Variable(tf.truncated_normal([input_shape[1], num_outputs]))\n",
    "    biases = tf.Variable(tf.zeros([num_outputs]))\n",
    "    return tf.add(tf.matmul(x_tensor, weights), biases)\n",
    "\n",
    "\"\"\"\n",
    "DON'T MODIFY ANYTHING IN THIS CELL THAT IS BELOW THIS LINE\n",
    "\"\"\"\n",
    "tests.test_output(output)"
   ]
  },
  {
   "cell_type": "markdown",
   "metadata": {
    "deletable": true,
    "editable": true
   },
   "source": [
    "### Create Convolutional Model\n",
    "Implement the function `conv_net` to create a convolutional neural network model. The function takes in a batch of images, `x`, and outputs logits.  Use the layers you created above to create this model:\n",
    "\n",
    "* Apply 1, 2, or 3 Convolution and Max Pool layers\n",
    "* Apply a Flatten Layer\n",
    "* Apply 1, 2, or 3 Fully Connected Layers\n",
    "* Apply an Output Layer\n",
    "* Return the output\n",
    "* Apply [TensorFlow's Dropout](https://www.tensorflow.org/api_docs/python/tf/nn/dropout) to one or more layers in the model using `keep_prob`. "
   ]
  },
  {
   "cell_type": "code",
   "execution_count": 375,
   "metadata": {
    "collapsed": false,
    "deletable": true,
    "editable": true
   },
   "outputs": [
    {
     "name": "stdout",
     "output_type": "stream",
     "text": [
      "flatten size 1536\n",
      "flatten size 1536\n",
      "Neural Network Built!\n"
     ]
    }
   ],
   "source": [
    "def conv_net(x, keep_prob):\n",
    "    \"\"\"\n",
    "    Create a convolutional neural network model\n",
    "    : x: Placeholder tensor that holds image data.\n",
    "    : keep_prob: Placeholder tensor that hold dropout keep probability.\n",
    "    : return: Tensor that represents logits\n",
    "    \"\"\"\n",
    "    # TODO: Apply 1, 2, or 3 Convolution and Max Pool layers\n",
    "    #    Play around with different number of outputs, kernel size and stride\n",
    "    # Function Definition from Above:\n",
    "    #    conv2d_maxpool(x_tensor, conv_num_outputs, conv_ksize, conv_strides, pool_ksize, pool_strides)\n",
    "    out = conv2d_maxpool(x, 32, (3, 3), (1, 1), (2, 2), (2, 2))\n",
    "    out = conv2d_maxpool(out, 64, (3, 3), (1, 1), (2, 2), (2, 2))\n",
    "    out = conv2d_maxpool(out, 96, (3, 3), (1, 1), (2, 2), (2, 2))\n",
    "\n",
    "    # TODO: Apply a Flatten Layer\n",
    "    # Function Definition from Above:\n",
    "    #   flatten(x_tensor)\n",
    "    out = flatten(out)\n",
    "\n",
    "    # TODO: Apply 1, 2, or 3 Fully Connected Layers\n",
    "    #    Play around with different number of outputs\n",
    "    # Function Definition from Above:\n",
    "    #   fully_conn(x_tensor, num_outputs)\n",
    "    out = fully_conn(out, 1024)\n",
    "    out = tf.nn.dropout(out, keep_prob)\n",
    "    out = fully_conn(out, 256)\n",
    "    out = fully_conn(out, 64)\n",
    "    \n",
    "    # TODO: Apply an Output Layer\n",
    "    #    Set this to the number of classes\n",
    "    # Function Definition from Above:\n",
    "    #   output(x_tensor, num_outputs)\n",
    "    out = output(out, 10)\n",
    "    \n",
    "    # TODO: return output\n",
    "    return out\n",
    "\n",
    "\n",
    "\"\"\"\n",
    "DON'T MODIFY ANYTHING IN THIS CELL THAT IS BELOW THIS LINE\n",
    "\"\"\"\n",
    "\n",
    "##############################\n",
    "## Build the Neural Network ##\n",
    "##############################\n",
    "\n",
    "# Remove previous weights, bias, inputs, etc..\n",
    "tf.reset_default_graph()\n",
    "\n",
    "# Inputs\n",
    "x = neural_net_image_input((32, 32, 3))\n",
    "y = neural_net_label_input(10)\n",
    "keep_prob = neural_net_keep_prob_input()\n",
    "\n",
    "# Model\n",
    "logits = conv_net(x, keep_prob)\n",
    "\n",
    "# Name logits Tensor, so that is can be loaded from disk after training\n",
    "logits = tf.identity(logits, name='logits')\n",
    "\n",
    "# Loss and Optimizer\n",
    "cost = tf.reduce_mean(tf.nn.softmax_cross_entropy_with_logits(logits=logits, labels=y))\n",
    "optimizer = tf.train.AdamOptimizer(learning_rate=0.0002).minimize(cost)\n",
    "\n",
    "# Accuracy\n",
    "correct_pred = tf.equal(tf.argmax(logits, 1), tf.argmax(y, 1))\n",
    "accuracy = tf.reduce_mean(tf.cast(correct_pred, tf.float32), name='accuracy')\n",
    "\n",
    "tests.test_conv_net(conv_net)"
   ]
  },
  {
   "cell_type": "markdown",
   "metadata": {
    "deletable": true,
    "editable": true
   },
   "source": [
    "## Train the Neural Network\n",
    "### Single Optimization\n",
    "Implement the function `train_neural_network` to do a single optimization.  The optimization should use `optimizer` to optimize in `session` with a `feed_dict` of the following:\n",
    "* `x` for image input\n",
    "* `y` for labels\n",
    "* `keep_prob` for keep probability for dropout\n",
    "\n",
    "This function will be called for each batch, so `tf.global_variables_initializer()` has already been called.\n",
    "\n",
    "Note: Nothing needs to be returned. This function is only optimizing the neural network."
   ]
  },
  {
   "cell_type": "code",
   "execution_count": 376,
   "metadata": {
    "collapsed": false,
    "deletable": true,
    "editable": true
   },
   "outputs": [
    {
     "name": "stdout",
     "output_type": "stream",
     "text": [
      "Tests Passed\n"
     ]
    }
   ],
   "source": [
    "def train_neural_network(session, optimizer, keep_probability, feature_batch, label_batch):\n",
    "    \"\"\"\n",
    "    Optimize the session on a batch of images and labels\n",
    "    : session: Current TensorFlow session\n",
    "    : optimizer: TensorFlow optimizer function\n",
    "    : keep_probability: keep probability\n",
    "    : feature_batch: Batch of Numpy image data\n",
    "    : label_batch: Batch of Numpy label data\n",
    "    \"\"\"\n",
    "    # TODO: Implement \n",
    "    session.run(optimizer, feed_dict={x: feature_batch, y: label_batch, keep_prob: keep_probability})\n",
    "\n",
    "\"\"\"\n",
    "DON'T MODIFY ANYTHING IN THIS CELL THAT IS BELOW THIS LINE\n",
    "\"\"\"\n",
    "tests.test_train_nn(train_neural_network)"
   ]
  },
  {
   "cell_type": "markdown",
   "metadata": {
    "deletable": true,
    "editable": true
   },
   "source": [
    "### Show Stats\n",
    "Implement the function `print_stats` to print loss and validation accuracy.  Use the global variables `valid_features` and `valid_labels` to calculate validation accuracy.  Use a keep probability of `1.0` to calculate the loss and validation accuracy."
   ]
  },
  {
   "cell_type": "code",
   "execution_count": 377,
   "metadata": {
    "collapsed": false,
    "deletable": true,
    "editable": true
   },
   "outputs": [],
   "source": [
    "def print_stats(session, feature_batch, label_batch, cost, accuracy):\n",
    "    \"\"\"\n",
    "    Print information about loss and validation accuracy\n",
    "    : session: Current TensorFlow session\n",
    "    : feature_batch: Batch of Numpy image data\n",
    "    : label_batch: Batch of Numpy label data\n",
    "    : cost: TensorFlow cost function\n",
    "    : accuracy: TensorFlow accuracy function\n",
    "    \"\"\"\n",
    "    # TODO: Implement Function\n",
    "    output_cost = session.run(cost, feed_dict={x: feature_batch, y: label_batch, keep_prob: 1.0})\n",
    "    output_accuracy = session.run(accuracy, feed_dict={x: valid_features, y: valid_labels, keep_prob: 1.0})\n",
    "    print(\"Cost: {:.0f}, Accuracy {:.3f}\".format(output_cost, output_accuracy))    "
   ]
  },
  {
   "cell_type": "markdown",
   "metadata": {
    "deletable": true,
    "editable": true
   },
   "source": [
    "### Hyperparameters\n",
    "Tune the following parameters:\n",
    "* Set `epochs` to the number of iterations until the network stops learning or start overfitting\n",
    "* Set `batch_size` to the highest number that your machine has memory for.  Most people set them to common sizes of memory:\n",
    " * 64\n",
    " * 128\n",
    " * 256\n",
    " * ...\n",
    "* Set `keep_probability` to the probability of keeping a node using dropout"
   ]
  },
  {
   "cell_type": "code",
   "execution_count": 384,
   "metadata": {
    "collapsed": true,
    "deletable": true,
    "editable": true
   },
   "outputs": [],
   "source": [
    "# TODO: Tune Parameters\n",
    "epochs = 30\n",
    "batch_size = 256\n",
    "keep_probability = 0.5"
   ]
  },
  {
   "cell_type": "markdown",
   "metadata": {
    "deletable": true,
    "editable": true
   },
   "source": [
    "### Train on a Single CIFAR-10 Batch\n",
    "Instead of training the neural network on all the CIFAR-10 batches of data, let's use a single batch. This should save time while you iterate on the model to get a better accuracy.  Once the final validation accuracy is 50% or greater, run the model on all the data in the next section."
   ]
  },
  {
   "cell_type": "code",
   "execution_count": 386,
   "metadata": {
    "collapsed": false,
    "deletable": true,
    "editable": true
   },
   "outputs": [
    {
     "name": "stdout",
     "output_type": "stream",
     "text": [
      "Checking the Training on a Single Batch...\n",
      "Epoch  1, CIFAR-10 Batch 1:  Cost: 77086, Accuracy 0.186\n",
      "Epoch  2, CIFAR-10 Batch 1:  Cost: 66762, Accuracy 0.246\n",
      "Epoch  3, CIFAR-10 Batch 1:  Cost: 61441, Accuracy 0.283\n",
      "Epoch  4, CIFAR-10 Batch 1:  Cost: 55591, Accuracy 0.311\n",
      "Epoch  5, CIFAR-10 Batch 1:  Cost: 52442, Accuracy 0.329\n",
      "Epoch  6, CIFAR-10 Batch 1:  Cost: 48598, Accuracy 0.347\n",
      "Epoch  7, CIFAR-10 Batch 1:  Cost: 43713, Accuracy 0.362\n",
      "Epoch  8, CIFAR-10 Batch 1:  Cost: 40438, Accuracy 0.369\n",
      "Epoch  9, CIFAR-10 Batch 1:  Cost: 38754, Accuracy 0.380\n",
      "Epoch 10, CIFAR-10 Batch 1:  Cost: 34873, Accuracy 0.385\n",
      "Epoch 11, CIFAR-10 Batch 1:  Cost: 32246, Accuracy 0.393\n",
      "Epoch 12, CIFAR-10 Batch 1:  Cost: 29750, Accuracy 0.403\n",
      "Epoch 13, CIFAR-10 Batch 1:  Cost: 26884, Accuracy 0.410\n",
      "Epoch 14, CIFAR-10 Batch 1:  Cost: 24988, Accuracy 0.412\n",
      "Epoch 15, CIFAR-10 Batch 1:  Cost: 22599, Accuracy 0.420\n",
      "Epoch 16, CIFAR-10 Batch 1:  Cost: 20646, Accuracy 0.428\n",
      "Epoch 17, CIFAR-10 Batch 1:  Cost: 20081, Accuracy 0.426\n",
      "Epoch 18, CIFAR-10 Batch 1:  Cost: 18346, Accuracy 0.431\n",
      "Epoch 19, CIFAR-10 Batch 1:  Cost: 17534, Accuracy 0.432\n",
      "Epoch 20, CIFAR-10 Batch 1:  Cost: 16710, Accuracy 0.437\n",
      "Epoch 21, CIFAR-10 Batch 1:  Cost: 16421, Accuracy 0.439\n",
      "Epoch 22, CIFAR-10 Batch 1:  Cost: 15479, Accuracy 0.442\n",
      "Epoch 23, CIFAR-10 Batch 1:  Cost: 15171, Accuracy 0.444\n",
      "Epoch 24, CIFAR-10 Batch 1:  Cost: 14910, Accuracy 0.443\n",
      "Epoch 25, CIFAR-10 Batch 1:  Cost: 13670, Accuracy 0.455\n",
      "Epoch 26, CIFAR-10 Batch 1:  Cost: 13305, Accuracy 0.458\n",
      "Epoch 27, CIFAR-10 Batch 1:  Cost: 12716, Accuracy 0.461\n",
      "Epoch 28, CIFAR-10 Batch 1:  Cost: 12485, Accuracy 0.463\n",
      "Epoch 29, CIFAR-10 Batch 1:  Cost: 11347, Accuracy 0.461\n",
      "Epoch 30, CIFAR-10 Batch 1:  Cost: 11306, Accuracy 0.468\n"
     ]
    }
   ],
   "source": [
    "\"\"\"\n",
    "DON'T MODIFY ANYTHING IN THIS CELL\n",
    "\"\"\"\n",
    "print('Checking the Training on a Single Batch...')\n",
    "with tf.Session() as sess:\n",
    "    # Initializing the variables\n",
    "    sess.run(tf.global_variables_initializer())\n",
    "    \n",
    "    # Training cycle\n",
    "    for epoch in range(epochs):\n",
    "        batch_i = 1\n",
    "        for batch_features, batch_labels in helper.load_preprocess_training_batch(batch_i, batch_size):\n",
    "            train_neural_network(sess, optimizer, keep_probability, batch_features, batch_labels)\n",
    "        print('Epoch {:>2}, CIFAR-10 Batch {}:  '.format(epoch + 1, batch_i), end='')\n",
    "        print_stats(sess, batch_features, batch_labels, cost, accuracy)"
   ]
  },
  {
   "cell_type": "markdown",
   "metadata": {
    "deletable": true,
    "editable": true
   },
   "source": [
    "### Fully Train the Model\n",
    "Now that you got a good accuracy with a single CIFAR-10 batch, try it with all five batches."
   ]
  },
  {
   "cell_type": "code",
   "execution_count": 387,
   "metadata": {
    "collapsed": false,
    "deletable": true,
    "editable": true,
    "scrolled": true
   },
   "outputs": [
    {
     "name": "stdout",
     "output_type": "stream",
     "text": [
      "Training...\n",
      "Epoch  1, CIFAR-10 Batch 1:  Cost: 77978, Accuracy 0.187\n",
      "Epoch  1, CIFAR-10 Batch 2:  Cost: 58622, Accuracy 0.242\n",
      "Epoch  1, CIFAR-10 Batch 3:  Cost: 61663, Accuracy 0.275\n",
      "Epoch  1, CIFAR-10 Batch 4:  Cost: 37294, Accuracy 0.296\n",
      "Epoch  1, CIFAR-10 Batch 5:  Cost: 58061, Accuracy 0.316\n",
      "Epoch  2, CIFAR-10 Batch 1:  Cost: 53132, Accuracy 0.329\n",
      "Epoch  2, CIFAR-10 Batch 2:  Cost: 38400, Accuracy 0.344\n",
      "Epoch  2, CIFAR-10 Batch 3:  Cost: 41470, Accuracy 0.355\n",
      "Epoch  2, CIFAR-10 Batch 4:  Cost: 30985, Accuracy 0.364\n",
      "Epoch  2, CIFAR-10 Batch 5:  Cost: 42728, Accuracy 0.380\n",
      "Epoch  3, CIFAR-10 Batch 1:  Cost: 45554, Accuracy 0.384\n",
      "Epoch  3, CIFAR-10 Batch 2:  Cost: 30430, Accuracy 0.391\n",
      "Epoch  3, CIFAR-10 Batch 3:  Cost: 31183, Accuracy 0.395\n",
      "Epoch  3, CIFAR-10 Batch 4:  Cost: 25357, Accuracy 0.401\n",
      "Epoch  3, CIFAR-10 Batch 5:  Cost: 33312, Accuracy 0.412\n",
      "Epoch  4, CIFAR-10 Batch 1:  Cost: 39074, Accuracy 0.415\n",
      "Epoch  4, CIFAR-10 Batch 2:  Cost: 25130, Accuracy 0.417\n",
      "Epoch  4, CIFAR-10 Batch 3:  Cost: 23794, Accuracy 0.421\n",
      "Epoch  4, CIFAR-10 Batch 4:  Cost: 21249, Accuracy 0.425\n",
      "Epoch  4, CIFAR-10 Batch 5:  Cost: 27614, Accuracy 0.430\n",
      "Epoch  5, CIFAR-10 Batch 1:  Cost: 32841, Accuracy 0.439\n",
      "Epoch  5, CIFAR-10 Batch 2:  Cost: 20470, Accuracy 0.445\n",
      "Epoch  5, CIFAR-10 Batch 3:  Cost: 20644, Accuracy 0.443\n",
      "Epoch  5, CIFAR-10 Batch 4:  Cost: 17321, Accuracy 0.448\n",
      "Epoch  5, CIFAR-10 Batch 5:  Cost: 23928, Accuracy 0.450\n",
      "Epoch  6, CIFAR-10 Batch 1:  Cost: 28510, Accuracy 0.450\n",
      "Epoch  6, CIFAR-10 Batch 2:  Cost: 17985, Accuracy 0.454\n",
      "Epoch  6, CIFAR-10 Batch 3:  Cost: 16604, Accuracy 0.449\n",
      "Epoch  6, CIFAR-10 Batch 4:  Cost: 14571, Accuracy 0.456\n",
      "Epoch  6, CIFAR-10 Batch 5:  Cost: 20022, Accuracy 0.460\n",
      "Epoch  7, CIFAR-10 Batch 1:  Cost: 24991, Accuracy 0.460\n",
      "Epoch  7, CIFAR-10 Batch 2:  Cost: 15170, Accuracy 0.463\n",
      "Epoch  7, CIFAR-10 Batch 3:  Cost: 13927, Accuracy 0.465\n",
      "Epoch  7, CIFAR-10 Batch 4:  Cost: 12750, Accuracy 0.463\n",
      "Epoch  7, CIFAR-10 Batch 5:  Cost: 17694, Accuracy 0.465\n",
      "Epoch  8, CIFAR-10 Batch 1:  Cost: 21807, Accuracy 0.467\n",
      "Epoch  8, CIFAR-10 Batch 2:  Cost: 13636, Accuracy 0.468\n",
      "Epoch  8, CIFAR-10 Batch 3:  Cost: 11258, Accuracy 0.475\n",
      "Epoch  8, CIFAR-10 Batch 4:  Cost: 10567, Accuracy 0.469\n",
      "Epoch  8, CIFAR-10 Batch 5:  Cost: 15042, Accuracy 0.473\n",
      "Epoch  9, CIFAR-10 Batch 1:  Cost: 18783, Accuracy 0.477\n",
      "Epoch  9, CIFAR-10 Batch 2:  Cost: 12178, Accuracy 0.476\n",
      "Epoch  9, CIFAR-10 Batch 3:  Cost: 10188, Accuracy 0.476\n",
      "Epoch  9, CIFAR-10 Batch 4:  Cost: 9867, Accuracy 0.483\n",
      "Epoch  9, CIFAR-10 Batch 5:  Cost: 13089, Accuracy 0.479\n",
      "Epoch 10, CIFAR-10 Batch 1:  Cost: 16724, Accuracy 0.480\n",
      "Epoch 10, CIFAR-10 Batch 2:  Cost: 10908, Accuracy 0.486\n",
      "Epoch 10, CIFAR-10 Batch 3:  Cost: 7923, Accuracy 0.481\n",
      "Epoch 10, CIFAR-10 Batch 4:  Cost: 8844, Accuracy 0.485\n",
      "Epoch 10, CIFAR-10 Batch 5:  Cost: 11492, Accuracy 0.484\n",
      "Epoch 11, CIFAR-10 Batch 1:  Cost: 14350, Accuracy 0.495\n",
      "Epoch 11, CIFAR-10 Batch 2:  Cost: 9862, Accuracy 0.495\n",
      "Epoch 11, CIFAR-10 Batch 3:  Cost: 6161, Accuracy 0.488\n",
      "Epoch 11, CIFAR-10 Batch 4:  Cost: 7347, Accuracy 0.493\n",
      "Epoch 11, CIFAR-10 Batch 5:  Cost: 10685, Accuracy 0.490\n",
      "Epoch 12, CIFAR-10 Batch 1:  Cost: 12947, Accuracy 0.499\n",
      "Epoch 12, CIFAR-10 Batch 2:  Cost: 8735, Accuracy 0.497\n",
      "Epoch 12, CIFAR-10 Batch 3:  Cost: 5406, Accuracy 0.492\n",
      "Epoch 12, CIFAR-10 Batch 4:  Cost: 6847, Accuracy 0.498\n",
      "Epoch 12, CIFAR-10 Batch 5:  Cost: 9574, Accuracy 0.493\n",
      "Epoch 13, CIFAR-10 Batch 1:  Cost: 11527, Accuracy 0.504\n",
      "Epoch 13, CIFAR-10 Batch 2:  Cost: 7541, Accuracy 0.503\n",
      "Epoch 13, CIFAR-10 Batch 3:  Cost: 5048, Accuracy 0.495\n",
      "Epoch 13, CIFAR-10 Batch 4:  Cost: 6077, Accuracy 0.501\n",
      "Epoch 13, CIFAR-10 Batch 5:  Cost: 8598, Accuracy 0.502\n",
      "Epoch 14, CIFAR-10 Batch 1:  Cost: 10411, Accuracy 0.503\n",
      "Epoch 14, CIFAR-10 Batch 2:  Cost: 6745, Accuracy 0.508\n",
      "Epoch 14, CIFAR-10 Batch 3:  Cost: 4818, Accuracy 0.502\n",
      "Epoch 14, CIFAR-10 Batch 4:  Cost: 4970, Accuracy 0.503\n",
      "Epoch 14, CIFAR-10 Batch 5:  Cost: 7942, Accuracy 0.509\n",
      "Epoch 15, CIFAR-10 Batch 1:  Cost: 9421, Accuracy 0.517\n",
      "Epoch 15, CIFAR-10 Batch 2:  Cost: 5978, Accuracy 0.513\n",
      "Epoch 15, CIFAR-10 Batch 3:  Cost: 3866, Accuracy 0.506\n",
      "Epoch 15, CIFAR-10 Batch 4:  Cost: 4475, Accuracy 0.511\n",
      "Epoch 15, CIFAR-10 Batch 5:  Cost: 6829, Accuracy 0.507\n",
      "Epoch 16, CIFAR-10 Batch 1:  Cost: 8506, Accuracy 0.512\n",
      "Epoch 16, CIFAR-10 Batch 2:  Cost: 5243, Accuracy 0.517\n",
      "Epoch 16, CIFAR-10 Batch 3:  Cost: 3628, Accuracy 0.510\n",
      "Epoch 16, CIFAR-10 Batch 4:  Cost: 4601, Accuracy 0.515\n",
      "Epoch 16, CIFAR-10 Batch 5:  Cost: 5774, Accuracy 0.514\n",
      "Epoch 17, CIFAR-10 Batch 1:  Cost: 7367, Accuracy 0.523\n",
      "Epoch 17, CIFAR-10 Batch 2:  Cost: 4675, Accuracy 0.519\n",
      "Epoch 17, CIFAR-10 Batch 3:  Cost: 3070, Accuracy 0.520\n",
      "Epoch 17, CIFAR-10 Batch 4:  Cost: 3651, Accuracy 0.522\n",
      "Epoch 17, CIFAR-10 Batch 5:  Cost: 5192, Accuracy 0.518\n",
      "Epoch 18, CIFAR-10 Batch 1:  Cost: 6638, Accuracy 0.524\n",
      "Epoch 18, CIFAR-10 Batch 2:  Cost: 4437, Accuracy 0.520\n",
      "Epoch 18, CIFAR-10 Batch 3:  Cost: 3125, Accuracy 0.519\n",
      "Epoch 18, CIFAR-10 Batch 4:  Cost: 3130, Accuracy 0.520\n",
      "Epoch 18, CIFAR-10 Batch 5:  Cost: 4655, Accuracy 0.523\n",
      "Epoch 19, CIFAR-10 Batch 1:  Cost: 5901, Accuracy 0.525\n",
      "Epoch 19, CIFAR-10 Batch 2:  Cost: 3838, Accuracy 0.526\n",
      "Epoch 19, CIFAR-10 Batch 3:  Cost: 2528, Accuracy 0.523\n",
      "Epoch 19, CIFAR-10 Batch 4:  Cost: 2869, Accuracy 0.528\n",
      "Epoch 19, CIFAR-10 Batch 5:  Cost: 4030, Accuracy 0.525\n",
      "Epoch 20, CIFAR-10 Batch 1:  Cost: 5603, Accuracy 0.528\n",
      "Epoch 20, CIFAR-10 Batch 2:  Cost: 3737, Accuracy 0.528\n",
      "Epoch 20, CIFAR-10 Batch 3:  Cost: 2260, Accuracy 0.524\n",
      "Epoch 20, CIFAR-10 Batch 4:  Cost: 2562, Accuracy 0.531\n",
      "Epoch 20, CIFAR-10 Batch 5:  Cost: 3574, Accuracy 0.526\n",
      "Epoch 21, CIFAR-10 Batch 1:  Cost: 5026, Accuracy 0.533\n",
      "Epoch 21, CIFAR-10 Batch 2:  Cost: 3216, Accuracy 0.529\n",
      "Epoch 21, CIFAR-10 Batch 3:  Cost: 1906, Accuracy 0.530\n",
      "Epoch 21, CIFAR-10 Batch 4:  Cost: 2458, Accuracy 0.534\n",
      "Epoch 21, CIFAR-10 Batch 5:  Cost: 3338, Accuracy 0.529\n",
      "Epoch 22, CIFAR-10 Batch 1:  Cost: 4194, Accuracy 0.533\n",
      "Epoch 22, CIFAR-10 Batch 2:  Cost: 2960, Accuracy 0.529\n",
      "Epoch 22, CIFAR-10 Batch 3:  Cost: 1529, Accuracy 0.530\n",
      "Epoch 22, CIFAR-10 Batch 4:  Cost: 2243, Accuracy 0.535\n",
      "Epoch 22, CIFAR-10 Batch 5:  Cost: 2612, Accuracy 0.534\n",
      "Epoch 23, CIFAR-10 Batch 1:  Cost: 3917, Accuracy 0.537\n",
      "Epoch 23, CIFAR-10 Batch 2:  Cost: 2490, Accuracy 0.532\n",
      "Epoch 23, CIFAR-10 Batch 3:  Cost: 1841, Accuracy 0.534\n",
      "Epoch 23, CIFAR-10 Batch 4:  Cost: 1923, Accuracy 0.533\n",
      "Epoch 23, CIFAR-10 Batch 5:  Cost: 2266, Accuracy 0.531\n",
      "Epoch 24, CIFAR-10 Batch 1:  Cost: 3603, Accuracy 0.538\n",
      "Epoch 24, CIFAR-10 Batch 2:  Cost: 2206, Accuracy 0.538\n",
      "Epoch 24, CIFAR-10 Batch 3:  Cost: 1484, Accuracy 0.533\n",
      "Epoch 24, CIFAR-10 Batch 4:  Cost: 1893, Accuracy 0.539\n",
      "Epoch 24, CIFAR-10 Batch 5:  Cost: 2119, Accuracy 0.534\n",
      "Epoch 25, CIFAR-10 Batch 1:  Cost: 3123, Accuracy 0.542\n",
      "Epoch 25, CIFAR-10 Batch 2:  Cost: 1999, Accuracy 0.540\n",
      "Epoch 25, CIFAR-10 Batch 3:  Cost: 1396, Accuracy 0.532\n",
      "Epoch 25, CIFAR-10 Batch 4:  Cost: 1498, Accuracy 0.539\n",
      "Epoch 25, CIFAR-10 Batch 5:  Cost: 2107, Accuracy 0.536\n",
      "Epoch 26, CIFAR-10 Batch 1:  Cost: 3113, Accuracy 0.543\n",
      "Epoch 26, CIFAR-10 Batch 2:  Cost: 1860, Accuracy 0.540\n",
      "Epoch 26, CIFAR-10 Batch 3:  Cost: 1226, Accuracy 0.542\n",
      "Epoch 26, CIFAR-10 Batch 4:  Cost: 1421, Accuracy 0.540\n",
      "Epoch 26, CIFAR-10 Batch 5:  Cost: 1618, Accuracy 0.538\n",
      "Epoch 27, CIFAR-10 Batch 1:  Cost: 2804, Accuracy 0.549\n",
      "Epoch 27, CIFAR-10 Batch 2:  Cost: 1740, Accuracy 0.544\n",
      "Epoch 27, CIFAR-10 Batch 3:  Cost: 1082, Accuracy 0.541\n",
      "Epoch 27, CIFAR-10 Batch 4:  Cost: 1285, Accuracy 0.543\n",
      "Epoch 27, CIFAR-10 Batch 5:  Cost: 1508, Accuracy 0.540\n",
      "Epoch 28, CIFAR-10 Batch 1:  Cost: 2409, Accuracy 0.547\n",
      "Epoch 28, CIFAR-10 Batch 2:  Cost: 1455, Accuracy 0.545\n",
      "Epoch 28, CIFAR-10 Batch 3:  Cost: 1028, Accuracy 0.540\n",
      "Epoch 28, CIFAR-10 Batch 4:  Cost: 1166, Accuracy 0.544\n",
      "Epoch 28, CIFAR-10 Batch 5:  Cost: 1361, Accuracy 0.539\n",
      "Epoch 29, CIFAR-10 Batch 1:  Cost: 2254, Accuracy 0.544\n",
      "Epoch 29, CIFAR-10 Batch 2:  Cost: 1357, Accuracy 0.544\n",
      "Epoch 29, CIFAR-10 Batch 3:  Cost: 789, Accuracy 0.542\n",
      "Epoch 29, CIFAR-10 Batch 4:  Cost: 1009, Accuracy 0.542\n",
      "Epoch 29, CIFAR-10 Batch 5:  Cost: 1148, Accuracy 0.539\n",
      "Epoch 30, CIFAR-10 Batch 1:  Cost: 2039, Accuracy 0.547\n",
      "Epoch 30, CIFAR-10 Batch 2:  Cost: 1319, Accuracy 0.542\n",
      "Epoch 30, CIFAR-10 Batch 3:  Cost: 783, Accuracy 0.539\n",
      "Epoch 30, CIFAR-10 Batch 4:  Cost: 947, Accuracy 0.541\n",
      "Epoch 30, CIFAR-10 Batch 5:  Cost: 1076, Accuracy 0.537\n"
     ]
    }
   ],
   "source": [
    "\"\"\"\n",
    "DON'T MODIFY ANYTHING IN THIS CELL\n",
    "\"\"\"\n",
    "save_model_path = './image_classification'\n",
    "\n",
    "print('Training...')\n",
    "with tf.Session() as sess:\n",
    "    # Initializing the variables\n",
    "    sess.run(tf.global_variables_initializer())\n",
    "    \n",
    "    # Training cycle\n",
    "    for epoch in range(epochs):\n",
    "        # Loop over all batches\n",
    "        n_batches = 5\n",
    "        for batch_i in range(1, n_batches + 1):\n",
    "            for batch_features, batch_labels in helper.load_preprocess_training_batch(batch_i, batch_size):\n",
    "                train_neural_network(sess, optimizer, keep_probability, batch_features, batch_labels)\n",
    "            print('Epoch {:>2}, CIFAR-10 Batch {}:  '.format(epoch + 1, batch_i), end='')\n",
    "            print_stats(sess, batch_features, batch_labels, cost, accuracy)\n",
    "            \n",
    "    # Save Model\n",
    "    saver = tf.train.Saver()\n",
    "    save_path = saver.save(sess, save_model_path)"
   ]
  },
  {
   "cell_type": "markdown",
   "metadata": {
    "deletable": true,
    "editable": true
   },
   "source": [
    "# Checkpoint\n",
    "The model has been saved to disk.\n",
    "## Test Model\n",
    "Test your model against the test dataset.  This will be your final accuracy. You should have an accuracy greater than 50%. If you don't, keep tweaking the model architecture and parameters."
   ]
  },
  {
   "cell_type": "code",
   "execution_count": 388,
   "metadata": {
    "collapsed": true,
    "deletable": true,
    "editable": true
   },
   "outputs": [],
   "source": [
    "IS_TRAINING=False"
   ]
  },
  {
   "cell_type": "code",
   "execution_count": 389,
   "metadata": {
    "collapsed": false,
    "deletable": true,
    "editable": true
   },
   "outputs": [
    {
     "name": "stdout",
     "output_type": "stream",
     "text": [
      "Testing Accuracy: 0.5435546875\n",
      "\n"
     ]
    },
    {
     "data": {
      "image/png": "[encoded data removed]",
      "text/plain": [
       "<matplotlib.figure.Figure at 0x7f86537858d0>"
      ]
     },
     "metadata": {
      "image/png": {
       "height": 445,
       "width": 493
      }
     },
     "output_type": "display_data"
    }
   ],
   "source": [
    "\"\"\"\n",
    "DON'T MODIFY ANYTHING IN THIS CELL\n",
    "\"\"\"\n",
    "%matplotlib inline\n",
    "%config InlineBackend.figure_format = 'retina'\n",
    "\n",
    "import tensorflow as tf\n",
    "import pickle\n",
    "import helper\n",
    "import random\n",
    "\n",
    "# Set batch size if not already set\n",
    "try:\n",
    "    if batch_size:\n",
    "        pass\n",
    "except NameError:\n",
    "    batch_size = 64\n",
    "\n",
    "save_model_path = './image_classification'\n",
    "n_samples = 4\n",
    "top_n_predictions = 3\n",
    "\n",
    "def test_model():\n",
    "    \"\"\"\n",
    "    Test the saved model against the test dataset\n",
    "    \"\"\"\n",
    "\n",
    "    test_features, test_labels = pickle.load(open('preprocess_training.p', mode='rb'))\n",
    "    loaded_graph = tf.Graph()\n",
    "\n",
    "    with tf.Session(graph=loaded_graph) as sess:\n",
    "        # Load model\n",
    "        loader = tf.train.import_meta_graph(save_model_path + '.meta')\n",
    "        loader.restore(sess, save_model_path)\n",
    "\n",
    "        # Get Tensors from loaded model\n",
    "        loaded_x = loaded_graph.get_tensor_by_name('x:0')\n",
    "        loaded_y = loaded_graph.get_tensor_by_name('y:0')\n",
    "        loaded_keep_prob = loaded_graph.get_tensor_by_name('keep_prob:0')\n",
    "        loaded_logits = loaded_graph.get_tensor_by_name('logits:0')\n",
    "        loaded_acc = loaded_graph.get_tensor_by_name('accuracy:0')\n",
    "        \n",
    "        # Get accuracy in batches for memory limitations\n",
    "        test_batch_acc_total = 0\n",
    "        test_batch_count = 0\n",
    "        \n",
    "        for train_feature_batch, train_label_batch in helper.batch_features_labels(test_features, test_labels, batch_size):\n",
    "            test_batch_acc_total += sess.run(\n",
    "                loaded_acc,\n",
    "                feed_dict={loaded_x: train_feature_batch, loaded_y: train_label_batch, loaded_keep_prob: 1.0})\n",
    "            test_batch_count += 1\n",
    "\n",
    "        print('Testing Accuracy: {}\\n'.format(test_batch_acc_total/test_batch_count))\n",
    "\n",
    "        # Print Random Samples\n",
    "        random_test_features, random_test_labels = tuple(zip(*random.sample(list(zip(test_features, test_labels)), n_samples)))\n",
    "        random_test_predictions = sess.run(\n",
    "            tf.nn.top_k(tf.nn.softmax(loaded_logits), top_n_predictions),\n",
    "            feed_dict={loaded_x: random_test_features, loaded_y: random_test_labels, loaded_keep_prob: 1.0})\n",
    "        helper.display_image_predictions(random_test_features, random_test_labels, random_test_predictions)\n",
    "\n",
    "\n",
    "test_model()"
   ]
  },
  {
   "cell_type": "markdown",
   "metadata": {
    "deletable": true,
    "editable": true
   },
   "source": [
    "## Why 50-80% Accuracy?\n",
    "You might be wondering why you can't get an accuracy any higher. First things first, 50% isn't bad for a simple CNN.  Pure guessing would get you 10% accuracy. However, you might notice people are getting scores [well above 80%](http://rodrigob.github.io/are_we_there_yet/build/classification_datasets_results.html#43494641522d3130).  That's because we haven't taught you all there is to know about neural networks. We still need to cover a few more techniques.\n",
    "## Submitting This Project\n",
    "When submitting this project, make sure to run all the cells before saving the notebook.  Save the notebook file as \"dlnd_image_classification.ipynb\" and save it as a HTML file under \"File\" -> \"Download as\".  Include the \"helper.py\" and \"problem_unittests.py\" files in your submission."
   ]
  }
 ],
 "metadata": {
  "anaconda-cloud": {},
  "kernelspec": {
   "display_name": "Python 3",
   "language": "python",
   "name": "python3"
  },
  "language_info": {
   "codemirror_mode": {
    "name": "ipython",
    "version": 3
   },
   "file_extension": ".py",
   "mimetype": "text/x-python",
   "name": "python",
   "nbconvert_exporter": "python",
   "pygments_lexer": "ipython3",
   "version": "3.5.3"
  }
 },
 "nbformat": 4,
 "nbformat_minor": 0
}
